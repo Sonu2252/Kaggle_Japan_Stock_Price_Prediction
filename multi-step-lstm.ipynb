{
 "cells": [
  {
   "cell_type": "code",
   "execution_count": 1,
   "id": "a24f461b",
   "metadata": {
    "_cell_guid": "b1076dfc-b9ad-4769-8c92-a6c4dae69d19",
    "_uuid": "8f2839f25d086af736a60e9eeb907d3b93b6e0e5",
    "execution": {
     "iopub.execute_input": "2022-06-27T18:16:37.960728Z",
     "iopub.status.busy": "2022-06-27T18:16:37.960171Z",
     "iopub.status.idle": "2022-06-27T18:16:37.989493Z",
     "shell.execute_reply": "2022-06-27T18:16:37.988595Z"
    },
    "papermill": {
     "duration": 0.058667,
     "end_time": "2022-06-27T18:16:37.993107",
     "exception": false,
     "start_time": "2022-06-27T18:16:37.934440",
     "status": "completed"
    },
    "tags": []
   },
   "outputs": [
    {
     "name": "stdout",
     "output_type": "stream",
     "text": [
      "/kaggle/input/jpx-tokyo-stock-exchange-prediction/stock_list.csv\n",
      "/kaggle/input/jpx-tokyo-stock-exchange-prediction/example_test_files/sample_submission.csv\n",
      "/kaggle/input/jpx-tokyo-stock-exchange-prediction/example_test_files/options.csv\n",
      "/kaggle/input/jpx-tokyo-stock-exchange-prediction/example_test_files/financials.csv\n",
      "/kaggle/input/jpx-tokyo-stock-exchange-prediction/example_test_files/secondary_stock_prices.csv\n",
      "/kaggle/input/jpx-tokyo-stock-exchange-prediction/example_test_files/trades.csv\n",
      "/kaggle/input/jpx-tokyo-stock-exchange-prediction/example_test_files/stock_prices.csv\n",
      "/kaggle/input/jpx-tokyo-stock-exchange-prediction/jpx_tokyo_market_prediction/competition.cpython-37m-x86_64-linux-gnu.so\n",
      "/kaggle/input/jpx-tokyo-stock-exchange-prediction/jpx_tokyo_market_prediction/__init__.py\n",
      "/kaggle/input/jpx-tokyo-stock-exchange-prediction/data_specifications/stock_fin_spec.csv\n",
      "/kaggle/input/jpx-tokyo-stock-exchange-prediction/data_specifications/trades_spec.csv\n",
      "/kaggle/input/jpx-tokyo-stock-exchange-prediction/data_specifications/stock_price_spec.csv\n",
      "/kaggle/input/jpx-tokyo-stock-exchange-prediction/data_specifications/options_spec.csv\n",
      "/kaggle/input/jpx-tokyo-stock-exchange-prediction/data_specifications/stock_list_spec.csv\n",
      "/kaggle/input/jpx-tokyo-stock-exchange-prediction/train_files/options.csv\n",
      "/kaggle/input/jpx-tokyo-stock-exchange-prediction/train_files/financials.csv\n",
      "/kaggle/input/jpx-tokyo-stock-exchange-prediction/train_files/secondary_stock_prices.csv\n",
      "/kaggle/input/jpx-tokyo-stock-exchange-prediction/train_files/trades.csv\n",
      "/kaggle/input/jpx-tokyo-stock-exchange-prediction/train_files/stock_prices.csv\n",
      "/kaggle/input/jpx-tokyo-stock-exchange-prediction/supplemental_files/options.csv\n",
      "/kaggle/input/jpx-tokyo-stock-exchange-prediction/supplemental_files/financials.csv\n",
      "/kaggle/input/jpx-tokyo-stock-exchange-prediction/supplemental_files/secondary_stock_prices.csv\n",
      "/kaggle/input/jpx-tokyo-stock-exchange-prediction/supplemental_files/trades.csv\n",
      "/kaggle/input/jpx-tokyo-stock-exchange-prediction/supplemental_files/stock_prices.csv\n"
     ]
    }
   ],
   "source": [
    "# This Python 3 environment comes with many helpful analytics libraries installed\n",
    "# It is defined by the kaggle/python Docker image: https://github.com/kaggle/docker-python\n",
    "# For example, here's several helpful packages to load\n",
    "\n",
    "import numpy as np # linear algebra\n",
    "import pandas as pd # data processing, CSV file I/O (e.g. pd.read_csv)\n",
    "\n",
    "# Input data files are available in the read-only \"../input/\" directory\n",
    "# For example, running this (by clicking run or pressing Shift+Enter) will list all files under the input directory\n",
    "\n",
    "import os\n",
    "for dirname, _, filenames in os.walk('/kaggle/input'):\n",
    "    for filename in filenames:\n",
    "        print(os.path.join(dirname, filename))\n",
    "\n",
    "# You can write up to 20GB to the current directory (/kaggle/working/) that gets preserved as output when you create a version using \"Save & Run All\" \n",
    "# You can also write temporary files to /kaggle/temp/, but they won't be saved outside of the current session"
   ]
  },
  {
   "cell_type": "markdown",
   "id": "70b85247",
   "metadata": {
    "papermill": {
     "duration": 0.020799,
     "end_time": "2022-06-27T18:16:38.034776",
     "exception": false,
     "start_time": "2022-06-27T18:16:38.013977",
     "status": "completed"
    },
    "tags": []
   },
   "source": [
    "# **Long Short Term Memory [LSTM]:**\n",
    "**Recurrent Neural Network is a machine learning algorithm, perfectly suited for machine learning\n",
    "problem that involves sequential data. Recurrent Neural Network model remembers the previous data\n",
    "point, which causes it to optimize its weights and also tune other hyper parameters according to the\n",
    "previous data point, with the aim to determine the next data point. Because of this feature we use\n",
    "Recurrent Neural Network model in time series problems, such as stock market prediction, market price\n",
    "prediction, Natural Language Processing, as in these predictions, previous past input data has high\n",
    "influence on future outputs.**\n",
    "\n",
    "**The whole idea behind the Recurrent Neural Network is to modify the weight values, which could be\n",
    "achieve by weight optimization techniques. But, as we calculate the loss gradient for weight\n",
    "optimization technique, we have to use the chain rule, as it might sometimes lead to a problem like\n",
    "vanishing gradient problem, which is due to the long term dependency. In order to, solve vanishing\n",
    "gradient problem, we introduce LSTM, which optimizes its weight and uses the sigmoid function, to\n",
    "forget the inputs which are less prioritized.**\n",
    "\n"
   ]
  },
  {
   "cell_type": "markdown",
   "id": "9a958e3b",
   "metadata": {
    "papermill": {
     "duration": 0.020752,
     "end_time": "2022-06-27T18:16:38.075658",
     "exception": false,
     "start_time": "2022-06-27T18:16:38.054906",
     "status": "completed"
    },
    "tags": []
   },
   "source": [
    "**I will get our dataset from train stock prices, which has almost 12 columns, and among those columns, we only need datas from close column as an input, as these values might have some significance in predicting the future values..**"
   ]
  },
  {
   "cell_type": "code",
   "execution_count": 2,
   "id": "871164c5",
   "metadata": {
    "execution": {
     "iopub.execute_input": "2022-06-27T18:16:38.117489Z",
     "iopub.status.busy": "2022-06-27T18:16:38.117229Z",
     "iopub.status.idle": "2022-06-27T18:16:38.121569Z",
     "shell.execute_reply": "2022-06-27T18:16:38.120625Z"
    },
    "papermill": {
     "duration": 0.027533,
     "end_time": "2022-06-27T18:16:38.123525",
     "exception": false,
     "start_time": "2022-06-27T18:16:38.095992",
     "status": "completed"
    },
    "tags": []
   },
   "outputs": [],
   "source": [
    "dataset = \"/kaggle/input/jpx-tokyo-stock-exchange-prediction\"\n",
    "train_file = \"train_files/stock_prices.csv\"\n",
    "train_all_file = os.path.join(dataset, train_file)"
   ]
  },
  {
   "cell_type": "markdown",
   "id": "38e257f4",
   "metadata": {
    "papermill": {
     "duration": 0.019894,
     "end_time": "2022-06-27T18:16:38.164091",
     "exception": false,
     "start_time": "2022-06-27T18:16:38.144197",
     "status": "completed"
    },
    "tags": []
   },
   "source": [
    "**I will read the csv file from the given path.**"
   ]
  },
  {
   "cell_type": "code",
   "execution_count": 3,
   "id": "5c662129",
   "metadata": {
    "execution": {
     "iopub.execute_input": "2022-06-27T18:16:38.206343Z",
     "iopub.status.busy": "2022-06-27T18:16:38.206090Z",
     "iopub.status.idle": "2022-06-27T18:16:43.845101Z",
     "shell.execute_reply": "2022-06-27T18:16:43.844112Z"
    },
    "papermill": {
     "duration": 5.662581,
     "end_time": "2022-06-27T18:16:43.847448",
     "exception": false,
     "start_time": "2022-06-27T18:16:38.184867",
     "status": "completed"
    },
    "tags": []
   },
   "outputs": [],
   "source": [
    "df = pd.read_csv(train_all_file)"
   ]
  },
  {
   "cell_type": "code",
   "execution_count": 4,
   "id": "ce4b557e",
   "metadata": {
    "execution": {
     "iopub.execute_input": "2022-06-27T18:16:43.890604Z",
     "iopub.status.busy": "2022-06-27T18:16:43.890321Z",
     "iopub.status.idle": "2022-06-27T18:16:43.913173Z",
     "shell.execute_reply": "2022-06-27T18:16:43.912179Z"
    },
    "papermill": {
     "duration": 0.046512,
     "end_time": "2022-06-27T18:16:43.915639",
     "exception": false,
     "start_time": "2022-06-27T18:16:43.869127",
     "status": "completed"
    },
    "tags": []
   },
   "outputs": [
    {
     "data": {
      "text/html": [
       "<div>\n",
       "<style scoped>\n",
       "    .dataframe tbody tr th:only-of-type {\n",
       "        vertical-align: middle;\n",
       "    }\n",
       "\n",
       "    .dataframe tbody tr th {\n",
       "        vertical-align: top;\n",
       "    }\n",
       "\n",
       "    .dataframe thead th {\n",
       "        text-align: right;\n",
       "    }\n",
       "</style>\n",
       "<table border=\"1\" class=\"dataframe\">\n",
       "  <thead>\n",
       "    <tr style=\"text-align: right;\">\n",
       "      <th></th>\n",
       "      <th>RowId</th>\n",
       "      <th>Date</th>\n",
       "      <th>SecuritiesCode</th>\n",
       "      <th>Open</th>\n",
       "      <th>High</th>\n",
       "      <th>Low</th>\n",
       "      <th>Close</th>\n",
       "      <th>Volume</th>\n",
       "      <th>AdjustmentFactor</th>\n",
       "      <th>ExpectedDividend</th>\n",
       "      <th>SupervisionFlag</th>\n",
       "      <th>Target</th>\n",
       "    </tr>\n",
       "  </thead>\n",
       "  <tbody>\n",
       "    <tr>\n",
       "      <th>0</th>\n",
       "      <td>20170104_1301</td>\n",
       "      <td>2017-01-04</td>\n",
       "      <td>1301</td>\n",
       "      <td>2734.0</td>\n",
       "      <td>2755.0</td>\n",
       "      <td>2730.0</td>\n",
       "      <td>2742.0</td>\n",
       "      <td>31400</td>\n",
       "      <td>1.0</td>\n",
       "      <td>NaN</td>\n",
       "      <td>False</td>\n",
       "      <td>0.000730</td>\n",
       "    </tr>\n",
       "    <tr>\n",
       "      <th>1</th>\n",
       "      <td>20170104_1332</td>\n",
       "      <td>2017-01-04</td>\n",
       "      <td>1332</td>\n",
       "      <td>568.0</td>\n",
       "      <td>576.0</td>\n",
       "      <td>563.0</td>\n",
       "      <td>571.0</td>\n",
       "      <td>2798500</td>\n",
       "      <td>1.0</td>\n",
       "      <td>NaN</td>\n",
       "      <td>False</td>\n",
       "      <td>0.012324</td>\n",
       "    </tr>\n",
       "    <tr>\n",
       "      <th>2</th>\n",
       "      <td>20170104_1333</td>\n",
       "      <td>2017-01-04</td>\n",
       "      <td>1333</td>\n",
       "      <td>3150.0</td>\n",
       "      <td>3210.0</td>\n",
       "      <td>3140.0</td>\n",
       "      <td>3210.0</td>\n",
       "      <td>270800</td>\n",
       "      <td>1.0</td>\n",
       "      <td>NaN</td>\n",
       "      <td>False</td>\n",
       "      <td>0.006154</td>\n",
       "    </tr>\n",
       "    <tr>\n",
       "      <th>3</th>\n",
       "      <td>20170104_1376</td>\n",
       "      <td>2017-01-04</td>\n",
       "      <td>1376</td>\n",
       "      <td>1510.0</td>\n",
       "      <td>1550.0</td>\n",
       "      <td>1510.0</td>\n",
       "      <td>1550.0</td>\n",
       "      <td>11300</td>\n",
       "      <td>1.0</td>\n",
       "      <td>NaN</td>\n",
       "      <td>False</td>\n",
       "      <td>0.011053</td>\n",
       "    </tr>\n",
       "    <tr>\n",
       "      <th>4</th>\n",
       "      <td>20170104_1377</td>\n",
       "      <td>2017-01-04</td>\n",
       "      <td>1377</td>\n",
       "      <td>3270.0</td>\n",
       "      <td>3350.0</td>\n",
       "      <td>3270.0</td>\n",
       "      <td>3330.0</td>\n",
       "      <td>150800</td>\n",
       "      <td>1.0</td>\n",
       "      <td>NaN</td>\n",
       "      <td>False</td>\n",
       "      <td>0.003026</td>\n",
       "    </tr>\n",
       "  </tbody>\n",
       "</table>\n",
       "</div>"
      ],
      "text/plain": [
       "           RowId        Date  SecuritiesCode    Open    High     Low   Close  \\\n",
       "0  20170104_1301  2017-01-04            1301  2734.0  2755.0  2730.0  2742.0   \n",
       "1  20170104_1332  2017-01-04            1332   568.0   576.0   563.0   571.0   \n",
       "2  20170104_1333  2017-01-04            1333  3150.0  3210.0  3140.0  3210.0   \n",
       "3  20170104_1376  2017-01-04            1376  1510.0  1550.0  1510.0  1550.0   \n",
       "4  20170104_1377  2017-01-04            1377  3270.0  3350.0  3270.0  3330.0   \n",
       "\n",
       "    Volume  AdjustmentFactor  ExpectedDividend  SupervisionFlag    Target  \n",
       "0    31400               1.0               NaN            False  0.000730  \n",
       "1  2798500               1.0               NaN            False  0.012324  \n",
       "2   270800               1.0               NaN            False  0.006154  \n",
       "3    11300               1.0               NaN            False  0.011053  \n",
       "4   150800               1.0               NaN            False  0.003026  "
      ]
     },
     "execution_count": 4,
     "metadata": {},
     "output_type": "execute_result"
    }
   ],
   "source": [
    "df.head()"
   ]
  },
  {
   "cell_type": "code",
   "execution_count": 5,
   "id": "9defb095",
   "metadata": {
    "execution": {
     "iopub.execute_input": "2022-06-27T18:16:43.958531Z",
     "iopub.status.busy": "2022-06-27T18:16:43.958269Z",
     "iopub.status.idle": "2022-06-27T18:16:43.974565Z",
     "shell.execute_reply": "2022-06-27T18:16:43.973586Z"
    },
    "papermill": {
     "duration": 0.040201,
     "end_time": "2022-06-27T18:16:43.977166",
     "exception": false,
     "start_time": "2022-06-27T18:16:43.936965",
     "status": "completed"
    },
    "tags": []
   },
   "outputs": [
    {
     "data": {
      "text/html": [
       "<div>\n",
       "<style scoped>\n",
       "    .dataframe tbody tr th:only-of-type {\n",
       "        vertical-align: middle;\n",
       "    }\n",
       "\n",
       "    .dataframe tbody tr th {\n",
       "        vertical-align: top;\n",
       "    }\n",
       "\n",
       "    .dataframe thead th {\n",
       "        text-align: right;\n",
       "    }\n",
       "</style>\n",
       "<table border=\"1\" class=\"dataframe\">\n",
       "  <thead>\n",
       "    <tr style=\"text-align: right;\">\n",
       "      <th></th>\n",
       "      <th>RowId</th>\n",
       "      <th>Date</th>\n",
       "      <th>SecuritiesCode</th>\n",
       "      <th>Open</th>\n",
       "      <th>High</th>\n",
       "      <th>Low</th>\n",
       "      <th>Close</th>\n",
       "      <th>Volume</th>\n",
       "      <th>AdjustmentFactor</th>\n",
       "      <th>ExpectedDividend</th>\n",
       "      <th>SupervisionFlag</th>\n",
       "      <th>Target</th>\n",
       "    </tr>\n",
       "  </thead>\n",
       "  <tbody>\n",
       "    <tr>\n",
       "      <th>2332526</th>\n",
       "      <td>20211203_9990</td>\n",
       "      <td>2021-12-03</td>\n",
       "      <td>9990</td>\n",
       "      <td>514.0</td>\n",
       "      <td>528.0</td>\n",
       "      <td>513.0</td>\n",
       "      <td>528.0</td>\n",
       "      <td>44200</td>\n",
       "      <td>1.0</td>\n",
       "      <td>NaN</td>\n",
       "      <td>False</td>\n",
       "      <td>0.034816</td>\n",
       "    </tr>\n",
       "    <tr>\n",
       "      <th>2332527</th>\n",
       "      <td>20211203_9991</td>\n",
       "      <td>2021-12-03</td>\n",
       "      <td>9991</td>\n",
       "      <td>782.0</td>\n",
       "      <td>794.0</td>\n",
       "      <td>782.0</td>\n",
       "      <td>794.0</td>\n",
       "      <td>35900</td>\n",
       "      <td>1.0</td>\n",
       "      <td>NaN</td>\n",
       "      <td>False</td>\n",
       "      <td>0.025478</td>\n",
       "    </tr>\n",
       "    <tr>\n",
       "      <th>2332528</th>\n",
       "      <td>20211203_9993</td>\n",
       "      <td>2021-12-03</td>\n",
       "      <td>9993</td>\n",
       "      <td>1690.0</td>\n",
       "      <td>1690.0</td>\n",
       "      <td>1645.0</td>\n",
       "      <td>1645.0</td>\n",
       "      <td>7200</td>\n",
       "      <td>1.0</td>\n",
       "      <td>NaN</td>\n",
       "      <td>False</td>\n",
       "      <td>-0.004302</td>\n",
       "    </tr>\n",
       "    <tr>\n",
       "      <th>2332529</th>\n",
       "      <td>20211203_9994</td>\n",
       "      <td>2021-12-03</td>\n",
       "      <td>9994</td>\n",
       "      <td>2388.0</td>\n",
       "      <td>2396.0</td>\n",
       "      <td>2380.0</td>\n",
       "      <td>2389.0</td>\n",
       "      <td>6500</td>\n",
       "      <td>1.0</td>\n",
       "      <td>NaN</td>\n",
       "      <td>False</td>\n",
       "      <td>0.009098</td>\n",
       "    </tr>\n",
       "    <tr>\n",
       "      <th>2332530</th>\n",
       "      <td>20211203_9997</td>\n",
       "      <td>2021-12-03</td>\n",
       "      <td>9997</td>\n",
       "      <td>690.0</td>\n",
       "      <td>711.0</td>\n",
       "      <td>686.0</td>\n",
       "      <td>696.0</td>\n",
       "      <td>381100</td>\n",
       "      <td>1.0</td>\n",
       "      <td>NaN</td>\n",
       "      <td>False</td>\n",
       "      <td>0.018414</td>\n",
       "    </tr>\n",
       "  </tbody>\n",
       "</table>\n",
       "</div>"
      ],
      "text/plain": [
       "                 RowId        Date  SecuritiesCode    Open    High     Low  \\\n",
       "2332526  20211203_9990  2021-12-03            9990   514.0   528.0   513.0   \n",
       "2332527  20211203_9991  2021-12-03            9991   782.0   794.0   782.0   \n",
       "2332528  20211203_9993  2021-12-03            9993  1690.0  1690.0  1645.0   \n",
       "2332529  20211203_9994  2021-12-03            9994  2388.0  2396.0  2380.0   \n",
       "2332530  20211203_9997  2021-12-03            9997   690.0   711.0   686.0   \n",
       "\n",
       "          Close  Volume  AdjustmentFactor  ExpectedDividend  SupervisionFlag  \\\n",
       "2332526   528.0   44200               1.0               NaN            False   \n",
       "2332527   794.0   35900               1.0               NaN            False   \n",
       "2332528  1645.0    7200               1.0               NaN            False   \n",
       "2332529  2389.0    6500               1.0               NaN            False   \n",
       "2332530   696.0  381100               1.0               NaN            False   \n",
       "\n",
       "           Target  \n",
       "2332526  0.034816  \n",
       "2332527  0.025478  \n",
       "2332528 -0.004302  \n",
       "2332529  0.009098  \n",
       "2332530  0.018414  "
      ]
     },
     "execution_count": 5,
     "metadata": {},
     "output_type": "execute_result"
    }
   ],
   "source": [
    "df.tail()"
   ]
  },
  {
   "cell_type": "code",
   "execution_count": 6,
   "id": "60167fc6",
   "metadata": {
    "execution": {
     "iopub.execute_input": "2022-06-27T18:16:44.019999Z",
     "iopub.status.busy": "2022-06-27T18:16:44.019739Z",
     "iopub.status.idle": "2022-06-27T18:16:44.026456Z",
     "shell.execute_reply": "2022-06-27T18:16:44.025633Z"
    },
    "papermill": {
     "duration": 0.03029,
     "end_time": "2022-06-27T18:16:44.028506",
     "exception": false,
     "start_time": "2022-06-27T18:16:43.998216",
     "status": "completed"
    },
    "tags": []
   },
   "outputs": [
    {
     "data": {
      "text/plain": [
       "2332531"
      ]
     },
     "execution_count": 6,
     "metadata": {},
     "output_type": "execute_result"
    }
   ],
   "source": [
    "len(df)"
   ]
  },
  {
   "cell_type": "markdown",
   "id": "7bee2c10",
   "metadata": {
    "papermill": {
     "duration": 0.02115,
     "end_time": "2022-06-27T18:16:44.070716",
     "exception": false,
     "start_time": "2022-06-27T18:16:44.049566",
     "status": "completed"
    },
    "tags": []
   },
   "source": [
    "**As it could be clearly seen that there are almost 2400000 stock price values**"
   ]
  },
  {
   "cell_type": "code",
   "execution_count": 7,
   "id": "7b0a171d",
   "metadata": {
    "execution": {
     "iopub.execute_input": "2022-06-27T18:16:44.114458Z",
     "iopub.status.busy": "2022-06-27T18:16:44.113580Z",
     "iopub.status.idle": "2022-06-27T18:16:44.573122Z",
     "shell.execute_reply": "2022-06-27T18:16:44.572083Z"
    },
    "papermill": {
     "duration": 0.484075,
     "end_time": "2022-06-27T18:16:44.575451",
     "exception": false,
     "start_time": "2022-06-27T18:16:44.091376",
     "status": "completed"
    },
    "tags": []
   },
   "outputs": [
    {
     "data": {
      "text/plain": [
       "RowId                     0\n",
       "Date                      0\n",
       "SecuritiesCode            0\n",
       "Open                   7608\n",
       "High                   7608\n",
       "Low                    7608\n",
       "Close                  7608\n",
       "Volume                    0\n",
       "AdjustmentFactor          0\n",
       "ExpectedDividend    2313666\n",
       "SupervisionFlag           0\n",
       "Target                  238\n",
       "dtype: int64"
      ]
     },
     "execution_count": 7,
     "metadata": {},
     "output_type": "execute_result"
    }
   ],
   "source": [
    "df.isnull().sum()"
   ]
  },
  {
   "cell_type": "code",
   "execution_count": 8,
   "id": "24a11029",
   "metadata": {
    "execution": {
     "iopub.execute_input": "2022-06-27T18:16:44.619368Z",
     "iopub.status.busy": "2022-06-27T18:16:44.619097Z",
     "iopub.status.idle": "2022-06-27T18:16:45.126397Z",
     "shell.execute_reply": "2022-06-27T18:16:45.125492Z"
    },
    "papermill": {
     "duration": 0.531723,
     "end_time": "2022-06-27T18:16:45.128562",
     "exception": false,
     "start_time": "2022-06-27T18:16:44.596839",
     "status": "completed"
    },
    "tags": []
   },
   "outputs": [
    {
     "data": {
      "text/plain": [
       "[<matplotlib.lines.Line2D at 0x7f521b7e9050>]"
      ]
     },
     "execution_count": 8,
     "metadata": {},
     "output_type": "execute_result"
    },
    {
     "data": {
      "image/png": "[encoded data removed]",
      "text/plain": [
       "<Figure size 432x288 with 1 Axes>"
      ]
     },
     "metadata": {
      "needs_background": "light"
     },
     "output_type": "display_data"
    }
   ],
   "source": [
    "import matplotlib.pyplot as plt\n",
    "plt.plot(df['Close'])"
   ]
  },
  {
   "cell_type": "markdown",
   "id": "016dcc0e",
   "metadata": {
    "papermill": {
     "duration": 0.021973,
     "end_time": "2022-06-27T18:16:45.172786",
     "exception": false,
     "start_time": "2022-06-27T18:16:45.150813",
     "status": "completed"
    },
    "tags": []
   },
   "source": [
    "**The graph seen above is quite incomprehensible.**"
   ]
  },
  {
   "cell_type": "markdown",
   "id": "34969d90",
   "metadata": {
    "papermill": {
     "duration": 0.021405,
     "end_time": "2022-06-27T18:16:45.215463",
     "exception": false,
     "start_time": "2022-06-27T18:16:45.194058",
     "status": "completed"
    },
    "tags": []
   },
   "source": [
    "**We need to calculate the adjusted close price by multiplying the ajustment factor with \"Close\" value.**"
   ]
  },
  {
   "cell_type": "code",
   "execution_count": 9,
   "id": "9f62e349",
   "metadata": {
    "execution": {
     "iopub.execute_input": "2022-06-27T18:16:45.260542Z",
     "iopub.status.busy": "2022-06-27T18:16:45.260183Z",
     "iopub.status.idle": "2022-06-27T18:16:45.269862Z",
     "shell.execute_reply": "2022-06-27T18:16:45.269046Z"
    },
    "papermill": {
     "duration": 0.034688,
     "end_time": "2022-06-27T18:16:45.271802",
     "exception": false,
     "start_time": "2022-06-27T18:16:45.237114",
     "status": "completed"
    },
    "tags": []
   },
   "outputs": [],
   "source": [
    "\n",
    "from decimal import ROUND_HALF_UP, Decimal\n",
    "def adjusted_price(price):\n",
    "    price.loc[:, \"Date\"] = pd.to_datetime(price.loc[:, \"Date\"], format = \"%Y-%m-%d\")\n",
    "    \n",
    "    def generated_close(df):\n",
    "        df = df.sort_values(\"Date\", ascending=False)\n",
    "        df.loc[:, \"CumulativeAdjustmentFactor\"] = df[\"AdjustmentFactor\"].cumprod()\n",
    "        df.loc[:, \"AdjustedClose\"] = (\n",
    "            df[\"CumulativeAdjustmentFactor\"] * df[\"Close\"]\n",
    "        ).map(lambda x: float(\n",
    "            Decimal(str(x)).quantize(Decimal('0.1'), rounding=ROUND_HALF_UP)\n",
    "        ))\n",
    "        df = df.sort_values(\"Date\")\n",
    "        df.loc[df[\"AdjustedClose\"] == 0, \"AdjustedClose\"] = np.nan\n",
    "        df.loc[:, \"AdjustedClose\"] = df.loc[:, \"AdjustedClose\"].ffill()\n",
    "        return df\n",
    "    price = price.sort_values([\"SecuritiesCode\", \"Date\"])\n",
    "    price = price.groupby(\"SecuritiesCode\").apply(generated_close).reset_index(drop=True)\n",
    "\n",
    "    price.set_index(\"Date\", inplace=True)\n",
    "    return price"
   ]
  },
  {
   "cell_type": "markdown",
   "id": "716542d2",
   "metadata": {
    "papermill": {
     "duration": 0.021122,
     "end_time": "2022-06-27T18:16:45.314173",
     "exception": false,
     "start_time": "2022-06-27T18:16:45.293051",
     "status": "completed"
    },
    "tags": []
   },
   "source": [
    "**As, I have added this new column, which is adjusted close value, and it must be taken as an input to train my neural network.**"
   ]
  },
  {
   "cell_type": "code",
   "execution_count": 10,
   "id": "3533fc9d",
   "metadata": {
    "execution": {
     "iopub.execute_input": "2022-06-27T18:16:45.358790Z",
     "iopub.status.busy": "2022-06-27T18:16:45.358512Z",
     "iopub.status.idle": "2022-06-27T18:17:02.883018Z",
     "shell.execute_reply": "2022-06-27T18:17:02.881841Z"
    },
    "papermill": {
     "duration": 17.549092,
     "end_time": "2022-06-27T18:17:02.885318",
     "exception": false,
     "start_time": "2022-06-27T18:16:45.336226",
     "status": "completed"
    },
    "tags": []
   },
   "outputs": [],
   "source": [
    "df = adjusted_price(df)"
   ]
  },
  {
   "cell_type": "code",
   "execution_count": 11,
   "id": "b3628c41",
   "metadata": {
    "execution": {
     "iopub.execute_input": "2022-06-27T18:17:02.930954Z",
     "iopub.status.busy": "2022-06-27T18:17:02.930312Z",
     "iopub.status.idle": "2022-06-27T18:17:02.948945Z",
     "shell.execute_reply": "2022-06-27T18:17:02.947945Z"
    },
    "papermill": {
     "duration": 0.04312,
     "end_time": "2022-06-27T18:17:02.951176",
     "exception": false,
     "start_time": "2022-06-27T18:17:02.908056",
     "status": "completed"
    },
    "tags": []
   },
   "outputs": [
    {
     "data": {
      "text/html": [
       "<div>\n",
       "<style scoped>\n",
       "    .dataframe tbody tr th:only-of-type {\n",
       "        vertical-align: middle;\n",
       "    }\n",
       "\n",
       "    .dataframe tbody tr th {\n",
       "        vertical-align: top;\n",
       "    }\n",
       "\n",
       "    .dataframe thead th {\n",
       "        text-align: right;\n",
       "    }\n",
       "</style>\n",
       "<table border=\"1\" class=\"dataframe\">\n",
       "  <thead>\n",
       "    <tr style=\"text-align: right;\">\n",
       "      <th></th>\n",
       "      <th>RowId</th>\n",
       "      <th>SecuritiesCode</th>\n",
       "      <th>Open</th>\n",
       "      <th>High</th>\n",
       "      <th>Low</th>\n",
       "      <th>Close</th>\n",
       "      <th>Volume</th>\n",
       "      <th>AdjustmentFactor</th>\n",
       "      <th>ExpectedDividend</th>\n",
       "      <th>SupervisionFlag</th>\n",
       "      <th>Target</th>\n",
       "      <th>CumulativeAdjustmentFactor</th>\n",
       "      <th>AdjustedClose</th>\n",
       "    </tr>\n",
       "    <tr>\n",
       "      <th>Date</th>\n",
       "      <th></th>\n",
       "      <th></th>\n",
       "      <th></th>\n",
       "      <th></th>\n",
       "      <th></th>\n",
       "      <th></th>\n",
       "      <th></th>\n",
       "      <th></th>\n",
       "      <th></th>\n",
       "      <th></th>\n",
       "      <th></th>\n",
       "      <th></th>\n",
       "      <th></th>\n",
       "    </tr>\n",
       "  </thead>\n",
       "  <tbody>\n",
       "    <tr>\n",
       "      <th>2017-01-04</th>\n",
       "      <td>20170104_1301</td>\n",
       "      <td>1301</td>\n",
       "      <td>2734.0</td>\n",
       "      <td>2755.0</td>\n",
       "      <td>2730.0</td>\n",
       "      <td>2742.0</td>\n",
       "      <td>31400</td>\n",
       "      <td>1.0</td>\n",
       "      <td>NaN</td>\n",
       "      <td>False</td>\n",
       "      <td>0.000730</td>\n",
       "      <td>1.0</td>\n",
       "      <td>2742.0</td>\n",
       "    </tr>\n",
       "    <tr>\n",
       "      <th>2017-01-05</th>\n",
       "      <td>20170105_1301</td>\n",
       "      <td>1301</td>\n",
       "      <td>2743.0</td>\n",
       "      <td>2747.0</td>\n",
       "      <td>2735.0</td>\n",
       "      <td>2738.0</td>\n",
       "      <td>17900</td>\n",
       "      <td>1.0</td>\n",
       "      <td>NaN</td>\n",
       "      <td>False</td>\n",
       "      <td>0.002920</td>\n",
       "      <td>1.0</td>\n",
       "      <td>2738.0</td>\n",
       "    </tr>\n",
       "    <tr>\n",
       "      <th>2017-01-06</th>\n",
       "      <td>20170106_1301</td>\n",
       "      <td>1301</td>\n",
       "      <td>2734.0</td>\n",
       "      <td>2744.0</td>\n",
       "      <td>2720.0</td>\n",
       "      <td>2740.0</td>\n",
       "      <td>19900</td>\n",
       "      <td>1.0</td>\n",
       "      <td>NaN</td>\n",
       "      <td>False</td>\n",
       "      <td>-0.001092</td>\n",
       "      <td>1.0</td>\n",
       "      <td>2740.0</td>\n",
       "    </tr>\n",
       "    <tr>\n",
       "      <th>2017-01-10</th>\n",
       "      <td>20170110_1301</td>\n",
       "      <td>1301</td>\n",
       "      <td>2745.0</td>\n",
       "      <td>2754.0</td>\n",
       "      <td>2735.0</td>\n",
       "      <td>2748.0</td>\n",
       "      <td>24200</td>\n",
       "      <td>1.0</td>\n",
       "      <td>NaN</td>\n",
       "      <td>False</td>\n",
       "      <td>-0.005100</td>\n",
       "      <td>1.0</td>\n",
       "      <td>2748.0</td>\n",
       "    </tr>\n",
       "    <tr>\n",
       "      <th>2017-01-11</th>\n",
       "      <td>20170111_1301</td>\n",
       "      <td>1301</td>\n",
       "      <td>2748.0</td>\n",
       "      <td>2752.0</td>\n",
       "      <td>2737.0</td>\n",
       "      <td>2745.0</td>\n",
       "      <td>9300</td>\n",
       "      <td>1.0</td>\n",
       "      <td>NaN</td>\n",
       "      <td>False</td>\n",
       "      <td>-0.003295</td>\n",
       "      <td>1.0</td>\n",
       "      <td>2745.0</td>\n",
       "    </tr>\n",
       "  </tbody>\n",
       "</table>\n",
       "</div>"
      ],
      "text/plain": [
       "                    RowId  SecuritiesCode    Open    High     Low   Close  \\\n",
       "Date                                                                        \n",
       "2017-01-04  20170104_1301            1301  2734.0  2755.0  2730.0  2742.0   \n",
       "2017-01-05  20170105_1301            1301  2743.0  2747.0  2735.0  2738.0   \n",
       "2017-01-06  20170106_1301            1301  2734.0  2744.0  2720.0  2740.0   \n",
       "2017-01-10  20170110_1301            1301  2745.0  2754.0  2735.0  2748.0   \n",
       "2017-01-11  20170111_1301            1301  2748.0  2752.0  2737.0  2745.0   \n",
       "\n",
       "            Volume  AdjustmentFactor  ExpectedDividend  SupervisionFlag  \\\n",
       "Date                                                                      \n",
       "2017-01-04   31400               1.0               NaN            False   \n",
       "2017-01-05   17900               1.0               NaN            False   \n",
       "2017-01-06   19900               1.0               NaN            False   \n",
       "2017-01-10   24200               1.0               NaN            False   \n",
       "2017-01-11    9300               1.0               NaN            False   \n",
       "\n",
       "              Target  CumulativeAdjustmentFactor  AdjustedClose  \n",
       "Date                                                             \n",
       "2017-01-04  0.000730                         1.0         2742.0  \n",
       "2017-01-05  0.002920                         1.0         2738.0  \n",
       "2017-01-06 -0.001092                         1.0         2740.0  \n",
       "2017-01-10 -0.005100                         1.0         2748.0  \n",
       "2017-01-11 -0.003295                         1.0         2745.0  "
      ]
     },
     "execution_count": 11,
     "metadata": {},
     "output_type": "execute_result"
    }
   ],
   "source": [
    "df.head()"
   ]
  },
  {
   "cell_type": "code",
   "execution_count": 12,
   "id": "5e813d13",
   "metadata": {
    "execution": {
     "iopub.execute_input": "2022-06-27T18:17:02.996343Z",
     "iopub.status.busy": "2022-06-27T18:17:02.996086Z",
     "iopub.status.idle": "2022-06-27T18:17:03.002057Z",
     "shell.execute_reply": "2022-06-27T18:17:03.001187Z"
    },
    "papermill": {
     "duration": 0.030428,
     "end_time": "2022-06-27T18:17:03.003928",
     "exception": false,
     "start_time": "2022-06-27T18:17:02.973500",
     "status": "completed"
    },
    "tags": []
   },
   "outputs": [
    {
     "data": {
      "text/plain": [
       "2332531"
      ]
     },
     "execution_count": 12,
     "metadata": {},
     "output_type": "execute_result"
    }
   ],
   "source": [
    "len(df)"
   ]
  },
  {
   "cell_type": "code",
   "execution_count": 13,
   "id": "ef24242c",
   "metadata": {
    "execution": {
     "iopub.execute_input": "2022-06-27T18:17:03.048946Z",
     "iopub.status.busy": "2022-06-27T18:17:03.048104Z",
     "iopub.status.idle": "2022-06-27T18:17:03.091363Z",
     "shell.execute_reply": "2022-06-27T18:17:03.090196Z"
    },
    "papermill": {
     "duration": 0.068892,
     "end_time": "2022-06-27T18:17:03.094617",
     "exception": false,
     "start_time": "2022-06-27T18:17:03.025725",
     "status": "completed"
    },
    "tags": []
   },
   "outputs": [
    {
     "name": "stdout",
     "output_type": "stream",
     "text": [
      "<class 'pandas.core.frame.DataFrame'>\n",
      "DatetimeIndex: 2332531 entries, 2017-01-04 to 2021-12-03\n",
      "Data columns (total 13 columns):\n",
      " #   Column                      Dtype  \n",
      "---  ------                      -----  \n",
      " 0   RowId                       object \n",
      " 1   SecuritiesCode              int64  \n",
      " 2   Open                        float64\n",
      " 3   High                        float64\n",
      " 4   Low                         float64\n",
      " 5   Close                       float64\n",
      " 6   Volume                      int64  \n",
      " 7   AdjustmentFactor            float64\n",
      " 8   ExpectedDividend            float64\n",
      " 9   SupervisionFlag             bool   \n",
      " 10  Target                      float64\n",
      " 11  CumulativeAdjustmentFactor  float64\n",
      " 12  AdjustedClose               float64\n",
      "dtypes: bool(1), float64(9), int64(2), object(1)\n",
      "memory usage: 233.6+ MB\n"
     ]
    }
   ],
   "source": [
    "df.info()"
   ]
  },
  {
   "cell_type": "code",
   "execution_count": 14,
   "id": "7b6fd730",
   "metadata": {
    "execution": {
     "iopub.execute_input": "2022-06-27T18:17:03.140410Z",
     "iopub.status.busy": "2022-06-27T18:17:03.140144Z",
     "iopub.status.idle": "2022-06-27T18:17:04.050612Z",
     "shell.execute_reply": "2022-06-27T18:17:04.049626Z"
    },
    "papermill": {
     "duration": 0.935903,
     "end_time": "2022-06-27T18:17:04.052855",
     "exception": false,
     "start_time": "2022-06-27T18:17:03.116952",
     "status": "completed"
    },
    "tags": []
   },
   "outputs": [
    {
     "data": {
      "image/png": "[encoded data removed]",
      "text/plain": [
       "<Figure size 432x288 with 1 Axes>"
      ]
     },
     "metadata": {
      "needs_background": "light"
     },
     "output_type": "display_data"
    }
   ],
   "source": [
    "plt.plot(df[\"AdjustedClose\"])\n",
    "plt.ylabel(\"Adjusted_Close_Value\")\n",
    "plt.xlabel(\"Year\")\n",
    "plt.show()"
   ]
  },
  {
   "cell_type": "code",
   "execution_count": 15,
   "id": "50b51f48",
   "metadata": {
    "execution": {
     "iopub.execute_input": "2022-06-27T18:17:04.100337Z",
     "iopub.status.busy": "2022-06-27T18:17:04.099500Z",
     "iopub.status.idle": "2022-06-27T18:17:04.106117Z",
     "shell.execute_reply": "2022-06-27T18:17:04.104978Z"
    },
    "papermill": {
     "duration": 0.032055,
     "end_time": "2022-06-27T18:17:04.108122",
     "exception": false,
     "start_time": "2022-06-27T18:17:04.076067",
     "status": "completed"
    },
    "tags": []
   },
   "outputs": [
    {
     "data": {
      "text/plain": [
       "2332531"
      ]
     },
     "execution_count": 15,
     "metadata": {},
     "output_type": "execute_result"
    }
   ],
   "source": [
    "len(df[\"AdjustedClose\"])"
   ]
  },
  {
   "cell_type": "markdown",
   "id": "8f422732",
   "metadata": {
    "papermill": {
     "duration": 0.022299,
     "end_time": "2022-06-27T18:17:04.153443",
     "exception": false,
     "start_time": "2022-06-27T18:17:04.131144",
     "status": "completed"
    },
    "tags": []
   },
   "source": [
    "**To make the graph more clear, and to determine the rise and fall of stock prices, clearly on the graph. I have taken only 100 adjusted Close prices. The graph can be seen below.**"
   ]
  },
  {
   "cell_type": "code",
   "execution_count": 16,
   "id": "4430c418",
   "metadata": {
    "execution": {
     "iopub.execute_input": "2022-06-27T18:17:04.200107Z",
     "iopub.status.busy": "2022-06-27T18:17:04.199581Z",
     "iopub.status.idle": "2022-06-27T18:17:04.205389Z",
     "shell.execute_reply": "2022-06-27T18:17:04.204389Z"
    },
    "papermill": {
     "duration": 0.030797,
     "end_time": "2022-06-27T18:17:04.207250",
     "exception": false,
     "start_time": "2022-06-27T18:17:04.176453",
     "status": "completed"
    },
    "tags": []
   },
   "outputs": [
    {
     "data": {
      "text/plain": [
       "2332531"
      ]
     },
     "execution_count": 16,
     "metadata": {},
     "output_type": "execute_result"
    }
   ],
   "source": [
    "dataset = df[\"AdjustedClose\"]\n",
    "len(dataset)"
   ]
  },
  {
   "cell_type": "code",
   "execution_count": 17,
   "id": "9d871b1a",
   "metadata": {
    "execution": {
     "iopub.execute_input": "2022-06-27T18:17:04.254357Z",
     "iopub.status.busy": "2022-06-27T18:17:04.253617Z",
     "iopub.status.idle": "2022-06-27T18:17:04.258780Z",
     "shell.execute_reply": "2022-06-27T18:17:04.257963Z"
    },
    "papermill": {
     "duration": 0.030563,
     "end_time": "2022-06-27T18:17:04.260650",
     "exception": false,
     "start_time": "2022-06-27T18:17:04.230087",
     "status": "completed"
    },
    "tags": []
   },
   "outputs": [],
   "source": [
    "df1 = dataset[:100]"
   ]
  },
  {
   "cell_type": "code",
   "execution_count": 18,
   "id": "9856a8b6",
   "metadata": {
    "execution": {
     "iopub.execute_input": "2022-06-27T18:17:04.308028Z",
     "iopub.status.busy": "2022-06-27T18:17:04.307767Z",
     "iopub.status.idle": "2022-06-27T18:17:04.313176Z",
     "shell.execute_reply": "2022-06-27T18:17:04.312313Z"
    },
    "papermill": {
     "duration": 0.031275,
     "end_time": "2022-06-27T18:17:04.315106",
     "exception": false,
     "start_time": "2022-06-27T18:17:04.283831",
     "status": "completed"
    },
    "tags": []
   },
   "outputs": [
    {
     "data": {
      "text/plain": [
       "100"
      ]
     },
     "execution_count": 18,
     "metadata": {},
     "output_type": "execute_result"
    }
   ],
   "source": [
    "len(df1)"
   ]
  },
  {
   "cell_type": "code",
   "execution_count": 19,
   "id": "cfa36eff",
   "metadata": {
    "execution": {
     "iopub.execute_input": "2022-06-27T18:17:04.363013Z",
     "iopub.status.busy": "2022-06-27T18:17:04.362177Z",
     "iopub.status.idle": "2022-06-27T18:17:04.370630Z",
     "shell.execute_reply": "2022-06-27T18:17:04.369705Z"
    },
    "papermill": {
     "duration": 0.034237,
     "end_time": "2022-06-27T18:17:04.372556",
     "exception": false,
     "start_time": "2022-06-27T18:17:04.338319",
     "status": "completed"
    },
    "tags": []
   },
   "outputs": [
    {
     "data": {
      "text/plain": [
       "Date\n",
       "2017-01-04    2742.0\n",
       "2017-01-05    2738.0\n",
       "2017-01-06    2740.0\n",
       "2017-01-10    2748.0\n",
       "2017-01-11    2745.0\n",
       "               ...  \n",
       "2017-05-24    3175.0\n",
       "2017-05-25    3130.0\n",
       "2017-05-26    3080.0\n",
       "2017-05-29    3065.0\n",
       "2017-05-30    3025.0\n",
       "Name: AdjustedClose, Length: 100, dtype: float64"
      ]
     },
     "execution_count": 19,
     "metadata": {},
     "output_type": "execute_result"
    }
   ],
   "source": [
    "df1"
   ]
  },
  {
   "cell_type": "markdown",
   "id": "f96299c0",
   "metadata": {
    "papermill": {
     "duration": 0.022967,
     "end_time": "2022-06-27T18:17:04.418448",
     "exception": false,
     "start_time": "2022-06-27T18:17:04.395481",
     "status": "completed"
    },
    "tags": []
   },
   "source": [
    "**I have defined the number of 100 datas to influence the future stock prices.** **It is clearly seen that the length of the values is more than permssible, as training of the data might strain the computer. So we need to divide the values into more permissible amount and also further divide them into train set and test set**."
   ]
  },
  {
   "cell_type": "code",
   "execution_count": 20,
   "id": "ee002acf",
   "metadata": {
    "execution": {
     "iopub.execute_input": "2022-06-27T18:17:04.465915Z",
     "iopub.status.busy": "2022-06-27T18:17:04.465203Z",
     "iopub.status.idle": "2022-06-27T18:17:04.471345Z",
     "shell.execute_reply": "2022-06-27T18:17:04.470400Z"
    },
    "papermill": {
     "duration": 0.032303,
     "end_time": "2022-06-27T18:17:04.473320",
     "exception": false,
     "start_time": "2022-06-27T18:17:04.441017",
     "status": "completed"
    },
    "tags": []
   },
   "outputs": [
    {
     "data": {
      "text/plain": [
       "0"
      ]
     },
     "execution_count": 20,
     "metadata": {},
     "output_type": "execute_result"
    }
   ],
   "source": [
    "df1.isnull().sum()"
   ]
  },
  {
   "cell_type": "markdown",
   "id": "0c443a65",
   "metadata": {
    "papermill": {
     "duration": 0.022505,
     "end_time": "2022-06-27T18:17:04.519790",
     "exception": false,
     "start_time": "2022-06-27T18:17:04.497285",
     "status": "completed"
    },
    "tags": []
   },
   "source": [
    "**Importing the important Packages, that are needed.**"
   ]
  },
  {
   "cell_type": "code",
   "execution_count": 21,
   "id": "b2418da2",
   "metadata": {
    "execution": {
     "iopub.execute_input": "2022-06-27T18:17:04.567329Z",
     "iopub.status.busy": "2022-06-27T18:17:04.566828Z",
     "iopub.status.idle": "2022-06-27T18:17:10.291804Z",
     "shell.execute_reply": "2022-06-27T18:17:10.290693Z"
    },
    "papermill": {
     "duration": 5.751124,
     "end_time": "2022-06-27T18:17:10.294330",
     "exception": false,
     "start_time": "2022-06-27T18:17:04.543206",
     "status": "completed"
    },
    "tags": []
   },
   "outputs": [],
   "source": [
    "import math\n",
    "import matplotlib.pyplot as plt\n",
    "from sklearn.preprocessing import MinMaxScaler\n",
    "from sklearn.metrics import mean_squared_error\n",
    "import tensorflow as tf\n",
    "from keras.models import Sequential\n",
    "from keras.layers import Dense, LSTM, Flatten, Activation, Dropout\n",
    "import seaborn as sns"
   ]
  },
  {
   "cell_type": "code",
   "execution_count": 22,
   "id": "a9afd2e7",
   "metadata": {
    "execution": {
     "iopub.execute_input": "2022-06-27T18:17:10.344168Z",
     "iopub.status.busy": "2022-06-27T18:17:10.343019Z",
     "iopub.status.idle": "2022-06-27T18:17:10.521422Z",
     "shell.execute_reply": "2022-06-27T18:17:10.520587Z"
    },
    "papermill": {
     "duration": 0.204866,
     "end_time": "2022-06-27T18:17:10.523316",
     "exception": false,
     "start_time": "2022-06-27T18:17:10.318450",
     "status": "completed"
    },
    "tags": []
   },
   "outputs": [
    {
     "data": {
      "image/png": "[encoded data removed]",
      "text/plain": [
       "<Figure size 432x288 with 1 Axes>"
      ]
     },
     "metadata": {
      "needs_background": "light"
     },
     "output_type": "display_data"
    }
   ],
   "source": [
    "plt.plot(df1)\n",
    "plt.ylabel(\"AdjustedClose_Values\")\n",
    "plt.xlabel(\"Year\")\n",
    "plt.show()"
   ]
  },
  {
   "cell_type": "markdown",
   "id": "362e543e",
   "metadata": {
    "papermill": {
     "duration": 0.022887,
     "end_time": "2022-06-27T18:17:10.569519",
     "exception": false,
     "start_time": "2022-06-27T18:17:10.546632",
     "status": "completed"
    },
    "tags": []
   },
   "source": [
    "**Since, there are large number of datasets, it will be quite straining and time consuming task to fit and run the whole model by taking these large number of close values. So, I have taken only 200000 values, which could be used for my model training process.**"
   ]
  },
  {
   "cell_type": "code",
   "execution_count": 23,
   "id": "cd45a80f",
   "metadata": {
    "execution": {
     "iopub.execute_input": "2022-06-27T18:17:10.617916Z",
     "iopub.status.busy": "2022-06-27T18:17:10.617079Z",
     "iopub.status.idle": "2022-06-27T18:17:10.623384Z",
     "shell.execute_reply": "2022-06-27T18:17:10.622510Z"
    },
    "papermill": {
     "duration": 0.032794,
     "end_time": "2022-06-27T18:17:10.625409",
     "exception": false,
     "start_time": "2022-06-27T18:17:10.592615",
     "status": "completed"
    },
    "tags": []
   },
   "outputs": [
    {
     "data": {
      "text/plain": [
       "200000"
      ]
     },
     "execution_count": 23,
     "metadata": {},
     "output_type": "execute_result"
    }
   ],
   "source": [
    "df2 = dataset[:200000]\n",
    "len(df2)"
   ]
  },
  {
   "cell_type": "code",
   "execution_count": 24,
   "id": "66cedbaf",
   "metadata": {
    "execution": {
     "iopub.execute_input": "2022-06-27T18:17:10.674079Z",
     "iopub.status.busy": "2022-06-27T18:17:10.673123Z",
     "iopub.status.idle": "2022-06-27T18:17:10.681346Z",
     "shell.execute_reply": "2022-06-27T18:17:10.680371Z"
    },
    "papermill": {
     "duration": 0.034944,
     "end_time": "2022-06-27T18:17:10.683407",
     "exception": false,
     "start_time": "2022-06-27T18:17:10.648463",
     "status": "completed"
    },
    "tags": []
   },
   "outputs": [
    {
     "data": {
      "text/plain": [
       "Date\n",
       "2017-01-04    2742.0\n",
       "2017-01-05    2738.0\n",
       "2017-01-06    2740.0\n",
       "2017-01-10    2748.0\n",
       "2017-01-11    2745.0\n",
       "               ...  \n",
       "2017-08-09    3655.0\n",
       "2017-08-10    3695.0\n",
       "2017-08-14    3705.0\n",
       "2017-08-15    3815.0\n",
       "2017-08-16    3770.0\n",
       "Name: AdjustedClose, Length: 200000, dtype: float64"
      ]
     },
     "execution_count": 24,
     "metadata": {},
     "output_type": "execute_result"
    }
   ],
   "source": [
    "df2"
   ]
  },
  {
   "cell_type": "code",
   "execution_count": 25,
   "id": "f1704b58",
   "metadata": {
    "execution": {
     "iopub.execute_input": "2022-06-27T18:17:10.731946Z",
     "iopub.status.busy": "2022-06-27T18:17:10.731322Z",
     "iopub.status.idle": "2022-06-27T18:17:12.647739Z",
     "shell.execute_reply": "2022-06-27T18:17:12.646361Z"
    },
    "papermill": {
     "duration": 1.9432,
     "end_time": "2022-06-27T18:17:12.650521",
     "exception": false,
     "start_time": "2022-06-27T18:17:10.707321",
     "status": "completed"
    },
    "tags": []
   },
   "outputs": [
    {
     "data": {
      "text/plain": [
       "<AxesSubplot:xlabel='Date'>"
      ]
     },
     "execution_count": 25,
     "metadata": {},
     "output_type": "execute_result"
    },
    {
     "data": {
      "image/png": "[encoded data removed]",
      "text/plain": [
       "<Figure size 864x288 with 1 Axes>"
      ]
     },
     "metadata": {
      "needs_background": "light"
     },
     "output_type": "display_data"
    }
   ],
   "source": [
    "df2.plot(figsize=(12, 4), legend=True, linestyle=\"--\", marker=\"o\")"
   ]
  },
  {
   "cell_type": "code",
   "execution_count": 26,
   "id": "d1294832",
   "metadata": {
    "execution": {
     "iopub.execute_input": "2022-06-27T18:17:12.731438Z",
     "iopub.status.busy": "2022-06-27T18:17:12.731043Z",
     "iopub.status.idle": "2022-06-27T18:17:13.335678Z",
     "shell.execute_reply": "2022-06-27T18:17:13.334807Z"
    },
    "papermill": {
     "duration": 0.647429,
     "end_time": "2022-06-27T18:17:13.337736",
     "exception": false,
     "start_time": "2022-06-27T18:17:12.690307",
     "status": "completed"
    },
    "tags": []
   },
   "outputs": [
    {
     "data": {
      "text/plain": [
       "<seaborn.axisgrid.FacetGrid at 0x7f519b2e6ed0>"
      ]
     },
     "execution_count": 26,
     "metadata": {},
     "output_type": "execute_result"
    },
    {
     "data": {
      "image/png": "[encoded data removed]",
      "text/plain": [
       "<Figure size 360x360 with 1 Axes>"
      ]
     },
     "metadata": {
      "needs_background": "light"
     },
     "output_type": "display_data"
    }
   ],
   "source": [
    "sns.displot(df2, bins=100, color='magenta')"
   ]
  },
  {
   "cell_type": "markdown",
   "id": "6f70b16c",
   "metadata": {
    "papermill": {
     "duration": 0.024399,
     "end_time": "2022-06-27T18:17:13.387621",
     "exception": false,
     "start_time": "2022-06-27T18:17:13.363222",
     "status": "completed"
    },
    "tags": []
   },
   "source": [
    "**We keep the whole values between 0 and 1, by using the MinMaxScaler**\n"
   ]
  },
  {
   "cell_type": "code",
   "execution_count": 27,
   "id": "a5668695",
   "metadata": {
    "execution": {
     "iopub.execute_input": "2022-06-27T18:17:13.438072Z",
     "iopub.status.busy": "2022-06-27T18:17:13.437788Z",
     "iopub.status.idle": "2022-06-27T18:17:13.444703Z",
     "shell.execute_reply": "2022-06-27T18:17:13.443892Z"
    },
    "papermill": {
     "duration": 0.034331,
     "end_time": "2022-06-27T18:17:13.446558",
     "exception": false,
     "start_time": "2022-06-27T18:17:13.412227",
     "status": "completed"
    },
    "tags": []
   },
   "outputs": [],
   "source": [
    "from sklearn.preprocessing import MinMaxScaler\n",
    "scaler = MinMaxScaler(feature_range=(0,1))\n",
    "df2 = scaler.fit_transform(np.array(df2).reshape(-1, 1))"
   ]
  },
  {
   "cell_type": "code",
   "execution_count": 28,
   "id": "e2e285c7",
   "metadata": {
    "execution": {
     "iopub.execute_input": "2022-06-27T18:17:13.496708Z",
     "iopub.status.busy": "2022-06-27T18:17:13.496433Z",
     "iopub.status.idle": "2022-06-27T18:17:13.501475Z",
     "shell.execute_reply": "2022-06-27T18:17:13.500592Z"
    },
    "papermill": {
     "duration": 0.033362,
     "end_time": "2022-06-27T18:17:13.504265",
     "exception": false,
     "start_time": "2022-06-27T18:17:13.470903",
     "status": "completed"
    },
    "tags": []
   },
   "outputs": [
    {
     "name": "stdout",
     "output_type": "stream",
     "text": [
      "[[0.11339526]\n",
      " [0.11322388]\n",
      " [0.11330957]\n",
      " ...\n",
      " [0.15465561]\n",
      " [0.15936863]\n",
      " [0.15744057]]\n"
     ]
    }
   ],
   "source": [
    "print(df2)"
   ]
  },
  {
   "cell_type": "code",
   "execution_count": 29,
   "id": "1fbb9388",
   "metadata": {
    "execution": {
     "iopub.execute_input": "2022-06-27T18:17:13.554760Z",
     "iopub.status.busy": "2022-06-27T18:17:13.554490Z",
     "iopub.status.idle": "2022-06-27T18:17:13.559334Z",
     "shell.execute_reply": "2022-06-27T18:17:13.558335Z"
    },
    "papermill": {
     "duration": 0.032459,
     "end_time": "2022-06-27T18:17:13.561418",
     "exception": false,
     "start_time": "2022-06-27T18:17:13.528959",
     "status": "completed"
    },
    "tags": []
   },
   "outputs": [],
   "source": [
    "train_size = int(len(df2)*0.75)\n",
    "test_size = len(df2)-train_size\n",
    "train_data, test_data = df2[0:train_size, :], df2[train_size:len(df2), :1]"
   ]
  },
  {
   "cell_type": "markdown",
   "id": "63c8d446",
   "metadata": {
    "papermill": {
     "duration": 0.024753,
     "end_time": "2022-06-27T18:17:13.610477",
     "exception": false,
     "start_time": "2022-06-27T18:17:13.585724",
     "status": "completed"
    },
    "tags": []
   },
   "source": [
    "**Here, I have taken time step as 100, and we have to train the model by taking the 100 inputs to the 101 as output, and the process continues for 200000 datas. The whole model is developed in this way to predict the another time step stock close value.**"
   ]
  },
  {
   "cell_type": "code",
   "execution_count": 30,
   "id": "5d871f7e",
   "metadata": {
    "execution": {
     "iopub.execute_input": "2022-06-27T18:17:13.660346Z",
     "iopub.status.busy": "2022-06-27T18:17:13.659908Z",
     "iopub.status.idle": "2022-06-27T18:17:13.666966Z",
     "shell.execute_reply": "2022-06-27T18:17:13.665983Z"
    },
    "papermill": {
     "duration": 0.033998,
     "end_time": "2022-06-27T18:17:13.668860",
     "exception": false,
     "start_time": "2022-06-27T18:17:13.634862",
     "status": "completed"
    },
    "tags": []
   },
   "outputs": [],
   "source": [
    "def create_dataset(dataset, time_step=1):\n",
    "    dataX, dataY = [], []\n",
    "    for i in range(len(dataset)-time_step-1):\n",
    "        a = dataset[i:(i+time_step), 0]\n",
    "        dataX.append(a)\n",
    "        dataY.append(dataset[i+time_step, 0])\n",
    "    return np.array(dataX), np.array(dataY)"
   ]
  },
  {
   "cell_type": "code",
   "execution_count": 31,
   "id": "41046be1",
   "metadata": {
    "execution": {
     "iopub.execute_input": "2022-06-27T18:17:13.719167Z",
     "iopub.status.busy": "2022-06-27T18:17:13.718894Z",
     "iopub.status.idle": "2022-06-27T18:17:14.045911Z",
     "shell.execute_reply": "2022-06-27T18:17:14.044888Z"
    },
    "papermill": {
     "duration": 0.355136,
     "end_time": "2022-06-27T18:17:14.048310",
     "exception": false,
     "start_time": "2022-06-27T18:17:13.693174",
     "status": "completed"
    },
    "tags": []
   },
   "outputs": [],
   "source": [
    "time_step = 100\n",
    "X_train, y_train = create_dataset(train_data, time_step)\n",
    "X_test, y_test = create_dataset(test_data, time_step)"
   ]
  },
  {
   "cell_type": "code",
   "execution_count": 32,
   "id": "82140a0a",
   "metadata": {
    "execution": {
     "iopub.execute_input": "2022-06-27T18:17:14.100102Z",
     "iopub.status.busy": "2022-06-27T18:17:14.099503Z",
     "iopub.status.idle": "2022-06-27T18:17:14.105575Z",
     "shell.execute_reply": "2022-06-27T18:17:14.104212Z"
    },
    "papermill": {
     "duration": 0.034431,
     "end_time": "2022-06-27T18:17:14.108118",
     "exception": false,
     "start_time": "2022-06-27T18:17:14.073687",
     "status": "completed"
    },
    "tags": []
   },
   "outputs": [
    {
     "name": "stdout",
     "output_type": "stream",
     "text": [
      "(149899, 100)\n"
     ]
    }
   ],
   "source": [
    "print(X_train.shape)"
   ]
  },
  {
   "cell_type": "code",
   "execution_count": 33,
   "id": "7cb491cf",
   "metadata": {
    "execution": {
     "iopub.execute_input": "2022-06-27T18:17:14.159278Z",
     "iopub.status.busy": "2022-06-27T18:17:14.158427Z",
     "iopub.status.idle": "2022-06-27T18:17:14.163303Z",
     "shell.execute_reply": "2022-06-27T18:17:14.162314Z"
    },
    "papermill": {
     "duration": 0.03275,
     "end_time": "2022-06-27T18:17:14.166045",
     "exception": false,
     "start_time": "2022-06-27T18:17:14.133295",
     "status": "completed"
    },
    "tags": []
   },
   "outputs": [
    {
     "name": "stdout",
     "output_type": "stream",
     "text": [
      "(149899,)\n"
     ]
    }
   ],
   "source": [
    "print(y_train.shape)"
   ]
  },
  {
   "cell_type": "code",
   "execution_count": 34,
   "id": "73a31270",
   "metadata": {
    "execution": {
     "iopub.execute_input": "2022-06-27T18:17:14.219902Z",
     "iopub.status.busy": "2022-06-27T18:17:14.219247Z",
     "iopub.status.idle": "2022-06-27T18:17:14.224309Z",
     "shell.execute_reply": "2022-06-27T18:17:14.223111Z"
    },
    "papermill": {
     "duration": 0.037456,
     "end_time": "2022-06-27T18:17:14.228074",
     "exception": false,
     "start_time": "2022-06-27T18:17:14.190618",
     "status": "completed"
    },
    "tags": []
   },
   "outputs": [
    {
     "name": "stdout",
     "output_type": "stream",
     "text": [
      "(49899, 100)\n"
     ]
    }
   ],
   "source": [
    "print(X_test.shape)"
   ]
  },
  {
   "cell_type": "code",
   "execution_count": 35,
   "id": "a8747a75",
   "metadata": {
    "execution": {
     "iopub.execute_input": "2022-06-27T18:17:14.279507Z",
     "iopub.status.busy": "2022-06-27T18:17:14.279246Z",
     "iopub.status.idle": "2022-06-27T18:17:14.285878Z",
     "shell.execute_reply": "2022-06-27T18:17:14.284716Z"
    },
    "papermill": {
     "duration": 0.034358,
     "end_time": "2022-06-27T18:17:14.287740",
     "exception": false,
     "start_time": "2022-06-27T18:17:14.253382",
     "status": "completed"
    },
    "tags": []
   },
   "outputs": [
    {
     "name": "stdout",
     "output_type": "stream",
     "text": [
      "[[0.11339526 0.11322388 0.11330957 ... 0.12787708 0.1272344  0.12552057]\n",
      " [0.11322388 0.11330957 0.11365233 ... 0.1272344  0.12552057 0.12680594]\n",
      " [0.11330957 0.11365233 0.1135238  ... 0.12552057 0.12680594 0.12680594]\n",
      " ...\n",
      " [0.04075905 0.03875816 0.03875816 ... 0.06746474 0.06674922 0.05675333]\n",
      " [0.03875816 0.03875816 0.04082761 ... 0.06674922 0.05675333 0.05675333]\n",
      " [0.03875816 0.04082761 0.04118751 ... 0.05675333 0.05675333 0.05661194]]\n"
     ]
    }
   ],
   "source": [
    "print(X_train)"
   ]
  },
  {
   "cell_type": "code",
   "execution_count": 36,
   "id": "35eea7e9",
   "metadata": {
    "execution": {
     "iopub.execute_input": "2022-06-27T18:17:14.339049Z",
     "iopub.status.busy": "2022-06-27T18:17:14.338235Z",
     "iopub.status.idle": "2022-06-27T18:17:14.343437Z",
     "shell.execute_reply": "2022-06-27T18:17:14.342627Z"
    },
    "papermill": {
     "duration": 0.033038,
     "end_time": "2022-06-27T18:17:14.345412",
     "exception": false,
     "start_time": "2022-06-27T18:17:14.312374",
     "status": "completed"
    },
    "tags": []
   },
   "outputs": [],
   "source": [
    "X_train = X_train.reshape(X_train.shape[0], X_train.shape[1], 1)\n",
    "X_test = X_test.reshape(X_test.shape[0], X_test.shape[1], 1)"
   ]
  },
  {
   "cell_type": "code",
   "execution_count": 37,
   "id": "6470947a",
   "metadata": {
    "execution": {
     "iopub.execute_input": "2022-06-27T18:17:14.395713Z",
     "iopub.status.busy": "2022-06-27T18:17:14.394896Z",
     "iopub.status.idle": "2022-06-27T18:17:14.401080Z",
     "shell.execute_reply": "2022-06-27T18:17:14.400105Z"
    },
    "papermill": {
     "duration": 0.033422,
     "end_time": "2022-06-27T18:17:14.402985",
     "exception": false,
     "start_time": "2022-06-27T18:17:14.369563",
     "status": "completed"
    },
    "tags": []
   },
   "outputs": [
    {
     "data": {
      "text/plain": [
       "(149899, 100, 1)"
      ]
     },
     "execution_count": 37,
     "metadata": {},
     "output_type": "execute_result"
    }
   ],
   "source": [
    "X_train.shape"
   ]
  },
  {
   "cell_type": "markdown",
   "id": "4d24f0ae",
   "metadata": {
    "papermill": {
     "duration": 0.02414,
     "end_time": "2022-06-27T18:17:14.452324",
     "exception": false,
     "start_time": "2022-06-27T18:17:14.428184",
     "status": "completed"
    },
    "tags": []
   },
   "source": [
    "**Multi Step LSTM is used in the following order as shown below.**"
   ]
  },
  {
   "cell_type": "code",
   "execution_count": 38,
   "id": "13994922",
   "metadata": {
    "execution": {
     "iopub.execute_input": "2022-06-27T18:17:14.503943Z",
     "iopub.status.busy": "2022-06-27T18:17:14.503656Z",
     "iopub.status.idle": "2022-06-27T18:17:18.055586Z",
     "shell.execute_reply": "2022-06-27T18:17:18.054648Z"
    },
    "papermill": {
     "duration": 3.580954,
     "end_time": "2022-06-27T18:17:18.057941",
     "exception": false,
     "start_time": "2022-06-27T18:17:14.476987",
     "status": "completed"
    },
    "tags": []
   },
   "outputs": [
    {
     "name": "stderr",
     "output_type": "stream",
     "text": [
      "2022-06-27 18:17:14.608004: I tensorflow/stream_executor/cuda/cuda_gpu_executor.cc:937] successful NUMA node read from SysFS had negative value (-1), but there must be at least one NUMA node, so returning NUMA node zero\n",
      "2022-06-27 18:17:14.765866: I tensorflow/stream_executor/cuda/cuda_gpu_executor.cc:937] successful NUMA node read from SysFS had negative value (-1), but there must be at least one NUMA node, so returning NUMA node zero\n",
      "2022-06-27 18:17:14.766594: I tensorflow/stream_executor/cuda/cuda_gpu_executor.cc:937] successful NUMA node read from SysFS had negative value (-1), but there must be at least one NUMA node, so returning NUMA node zero\n",
      "2022-06-27 18:17:14.768761: I tensorflow/core/platform/cpu_feature_guard.cc:142] This TensorFlow binary is optimized with oneAPI Deep Neural Network Library (oneDNN) to use the following CPU instructions in performance-critical operations:  AVX2 AVX512F FMA\n",
      "To enable them in other operations, rebuild TensorFlow with the appropriate compiler flags.\n",
      "2022-06-27 18:17:14.769058: I tensorflow/stream_executor/cuda/cuda_gpu_executor.cc:937] successful NUMA node read from SysFS had negative value (-1), but there must be at least one NUMA node, so returning NUMA node zero\n",
      "2022-06-27 18:17:14.769806: I tensorflow/stream_executor/cuda/cuda_gpu_executor.cc:937] successful NUMA node read from SysFS had negative value (-1), but there must be at least one NUMA node, so returning NUMA node zero\n",
      "2022-06-27 18:17:14.770459: I tensorflow/stream_executor/cuda/cuda_gpu_executor.cc:937] successful NUMA node read from SysFS had negative value (-1), but there must be at least one NUMA node, so returning NUMA node zero\n",
      "2022-06-27 18:17:16.895003: I tensorflow/stream_executor/cuda/cuda_gpu_executor.cc:937] successful NUMA node read from SysFS had negative value (-1), but there must be at least one NUMA node, so returning NUMA node zero\n",
      "2022-06-27 18:17:16.895823: I tensorflow/stream_executor/cuda/cuda_gpu_executor.cc:937] successful NUMA node read from SysFS had negative value (-1), but there must be at least one NUMA node, so returning NUMA node zero\n",
      "2022-06-27 18:17:16.896526: I tensorflow/stream_executor/cuda/cuda_gpu_executor.cc:937] successful NUMA node read from SysFS had negative value (-1), but there must be at least one NUMA node, so returning NUMA node zero\n",
      "2022-06-27 18:17:16.897140: I tensorflow/core/common_runtime/gpu/gpu_device.cc:1510] Created device /job:localhost/replica:0/task:0/device:GPU:0 with 15403 MB memory:  -> device: 0, name: Tesla P100-PCIE-16GB, pci bus id: 0000:00:04.0, compute capability: 6.0\n"
     ]
    }
   ],
   "source": [
    "model_1 = Sequential([\n",
    "    LSTM(units=100, return_sequences=True, input_shape=(100, 1)),\n",
    "    Dropout(0.2),\n",
    "    LSTM(100, return_sequences=True),\n",
    "    Dropout(0.1),\n",
    "    LSTM(50, return_sequences=True),\n",
    "    Dropout(0.2),\n",
    "    Flatten(),\n",
    "    Dense(100, activation='relu'),\n",
    "    Dropout(0.2),\n",
    "    Dense(25, activation=\"relu\"),\n",
    "    Dropout(0.1),\n",
    "    Dense(1)\n",
    "])"
   ]
  },
  {
   "cell_type": "code",
   "execution_count": 39,
   "id": "2e7c3661",
   "metadata": {
    "execution": {
     "iopub.execute_input": "2022-06-27T18:17:18.109541Z",
     "iopub.status.busy": "2022-06-27T18:17:18.108645Z",
     "iopub.status.idle": "2022-06-27T18:17:18.116525Z",
     "shell.execute_reply": "2022-06-27T18:17:18.114577Z"
    },
    "papermill": {
     "duration": 0.035274,
     "end_time": "2022-06-27T18:17:18.118441",
     "exception": false,
     "start_time": "2022-06-27T18:17:18.083167",
     "status": "completed"
    },
    "tags": []
   },
   "outputs": [
    {
     "name": "stdout",
     "output_type": "stream",
     "text": [
      "Model: \"sequential\"\n",
      "_________________________________________________________________\n",
      "Layer (type)                 Output Shape              Param #   \n",
      "=================================================================\n",
      "lstm (LSTM)                  (None, 100, 100)          40800     \n",
      "_________________________________________________________________\n",
      "dropout (Dropout)            (None, 100, 100)          0         \n",
      "_________________________________________________________________\n",
      "lstm_1 (LSTM)                (None, 100, 100)          80400     \n",
      "_________________________________________________________________\n",
      "dropout_1 (Dropout)          (None, 100, 100)          0         \n",
      "_________________________________________________________________\n",
      "lstm_2 (LSTM)                (None, 100, 50)           30200     \n",
      "_________________________________________________________________\n",
      "dropout_2 (Dropout)          (None, 100, 50)           0         \n",
      "_________________________________________________________________\n",
      "flatten (Flatten)            (None, 5000)              0         \n",
      "_________________________________________________________________\n",
      "dense (Dense)                (None, 100)               500100    \n",
      "_________________________________________________________________\n",
      "dropout_3 (Dropout)          (None, 100)               0         \n",
      "_________________________________________________________________\n",
      "dense_1 (Dense)              (None, 25)                2525      \n",
      "_________________________________________________________________\n",
      "dropout_4 (Dropout)          (None, 25)                0         \n",
      "_________________________________________________________________\n",
      "dense_2 (Dense)              (None, 1)                 26        \n",
      "=================================================================\n",
      "Total params: 654,051\n",
      "Trainable params: 654,051\n",
      "Non-trainable params: 0\n",
      "_________________________________________________________________\n"
     ]
    }
   ],
   "source": [
    "model_1.summary()"
   ]
  },
  {
   "cell_type": "code",
   "execution_count": 40,
   "id": "9cd05ec2",
   "metadata": {
    "execution": {
     "iopub.execute_input": "2022-06-27T18:17:18.171275Z",
     "iopub.status.busy": "2022-06-27T18:17:18.170617Z",
     "iopub.status.idle": "2022-06-27T18:17:19.509505Z",
     "shell.execute_reply": "2022-06-27T18:17:19.508368Z"
    },
    "papermill": {
     "duration": 1.368138,
     "end_time": "2022-06-27T18:17:19.512360",
     "exception": false,
     "start_time": "2022-06-27T18:17:18.144222",
     "status": "completed"
    },
    "tags": []
   },
   "outputs": [
    {
     "data": {
      "image/jpeg": "[encoded data removed]",
      "text/plain": [
       "<IPython.core.display.Image object>"
      ]
     },
     "execution_count": 40,
     "metadata": {},
     "output_type": "execute_result"
    }
   ],
   "source": [
    "from tensorflow.keras.utils import plot_model\n",
    "plot_model(model_1, 'model_1.jpg', show_shapes=True)"
   ]
  },
  {
   "cell_type": "code",
   "execution_count": 41,
   "id": "71967f91",
   "metadata": {
    "execution": {
     "iopub.execute_input": "2022-06-27T18:17:19.570544Z",
     "iopub.status.busy": "2022-06-27T18:17:19.570225Z",
     "iopub.status.idle": "2022-06-27T18:17:19.586806Z",
     "shell.execute_reply": "2022-06-27T18:17:19.585981Z"
    },
    "papermill": {
     "duration": 0.048876,
     "end_time": "2022-06-27T18:17:19.588793",
     "exception": false,
     "start_time": "2022-06-27T18:17:19.539917",
     "status": "completed"
    },
    "tags": []
   },
   "outputs": [],
   "source": [
    "model_1.compile(optimizer=\"adam\", loss=\"mean_squared_error\")"
   ]
  },
  {
   "cell_type": "code",
   "execution_count": 42,
   "id": "0f0a1844",
   "metadata": {
    "execution": {
     "iopub.execute_input": "2022-06-27T18:17:19.643035Z",
     "iopub.status.busy": "2022-06-27T18:17:19.642777Z",
     "iopub.status.idle": "2022-06-27T18:30:53.251099Z",
     "shell.execute_reply": "2022-06-27T18:30:53.249109Z"
    },
    "papermill": {
     "duration": 813.640545,
     "end_time": "2022-06-27T18:30:53.255727",
     "exception": false,
     "start_time": "2022-06-27T18:17:19.615182",
     "status": "completed"
    },
    "tags": []
   },
   "outputs": [
    {
     "name": "stderr",
     "output_type": "stream",
     "text": [
      "2022-06-27 18:17:19.832535: I tensorflow/compiler/mlir/mlir_graph_optimization_pass.cc:185] None of the MLIR Optimization Passes are enabled (registered 2)\n"
     ]
    },
    {
     "name": "stdout",
     "output_type": "stream",
     "text": [
      "Epoch 1/10\n"
     ]
    },
    {
     "name": "stderr",
     "output_type": "stream",
     "text": [
      "2022-06-27 18:17:24.058453: I tensorflow/stream_executor/cuda/cuda_dnn.cc:369] Loaded cuDNN version 8005\n"
     ]
    },
    {
     "name": "stdout",
     "output_type": "stream",
     "text": [
      "4685/4685 [==============================] - 87s 17ms/step - loss: 5.8311e-04 - val_loss: 1.0023e-04\n",
      "Epoch 2/10\n",
      "4685/4685 [==============================] - 80s 17ms/step - loss: 3.2835e-04 - val_loss: 7.7557e-05\n",
      "Epoch 3/10\n",
      "4685/4685 [==============================] - 80s 17ms/step - loss: 2.5947e-04 - val_loss: 8.3583e-05\n",
      "Epoch 4/10\n",
      "4685/4685 [==============================] - 80s 17ms/step - loss: 2.4461e-04 - val_loss: 1.0809e-04\n",
      "Epoch 5/10\n",
      "4685/4685 [==============================] - 80s 17ms/step - loss: 2.1983e-04 - val_loss: 4.8439e-05\n",
      "Epoch 6/10\n",
      "4685/4685 [==============================] - 80s 17ms/step - loss: 2.1461e-04 - val_loss: 2.1056e-04\n",
      "Epoch 7/10\n",
      "4685/4685 [==============================] - 82s 17ms/step - loss: 1.9970e-04 - val_loss: 1.3250e-04\n",
      "Epoch 8/10\n",
      "4685/4685 [==============================] - 81s 17ms/step - loss: 1.9202e-04 - val_loss: 8.0123e-05\n",
      "Epoch 9/10\n",
      "4685/4685 [==============================] - 81s 17ms/step - loss: 1.9091e-04 - val_loss: 2.1750e-04\n",
      "Epoch 10/10\n",
      "4685/4685 [==============================] - 81s 17ms/step - loss: 1.9044e-04 - val_loss: 1.6435e-04\n"
     ]
    }
   ],
   "source": [
    "history_1 = model_1.fit(X_train, y_train, epochs=10, validation_data=(X_test, y_test))"
   ]
  },
  {
   "cell_type": "code",
   "execution_count": 43,
   "id": "a4f529cf",
   "metadata": {
    "execution": {
     "iopub.execute_input": "2022-06-27T18:30:54.781083Z",
     "iopub.status.busy": "2022-06-27T18:30:54.780684Z",
     "iopub.status.idle": "2022-06-27T18:31:05.172394Z",
     "shell.execute_reply": "2022-06-27T18:31:05.171441Z"
    },
    "papermill": {
     "duration": 11.179098,
     "end_time": "2022-06-27T18:31:05.175082",
     "exception": false,
     "start_time": "2022-06-27T18:30:53.995984",
     "status": "completed"
    },
    "tags": []
   },
   "outputs": [
    {
     "name": "stdout",
     "output_type": "stream",
     "text": [
      "1560/1560 [==============================] - 10s 7ms/step - loss: 1.6435e-04\n"
     ]
    }
   ],
   "source": [
    "loss = model_1.evaluate(X_test, y_test)"
   ]
  },
  {
   "cell_type": "code",
   "execution_count": 44,
   "id": "a636b132",
   "metadata": {
    "execution": {
     "iopub.execute_input": "2022-06-27T18:31:07.101598Z",
     "iopub.status.busy": "2022-06-27T18:31:07.101157Z",
     "iopub.status.idle": "2022-06-27T18:31:07.298867Z",
     "shell.execute_reply": "2022-06-27T18:31:07.297995Z"
    },
    "papermill": {
     "duration": 0.963872,
     "end_time": "2022-06-27T18:31:07.301071",
     "exception": false,
     "start_time": "2022-06-27T18:31:06.337199",
     "status": "completed"
    },
    "tags": []
   },
   "outputs": [
    {
     "data": {
      "text/plain": [
       "<AxesSubplot:>"
      ]
     },
     "execution_count": 44,
     "metadata": {},
     "output_type": "execute_result"
    },
    {
     "data": {
      "image/png": "[encoded data removed]",
      "text/plain": [
       "<Figure size 720x504 with 1 Axes>"
      ]
     },
     "metadata": {
      "needs_background": "light"
     },
     "output_type": "display_data"
    }
   ],
   "source": [
    "import pandas as pd\n",
    "pd.DataFrame(history_1.history).plot(figsize=(10, 7))"
   ]
  },
  {
   "cell_type": "markdown",
   "id": "466a214e",
   "metadata": {
    "papermill": {
     "duration": 1.051981,
     "end_time": "2022-06-27T18:31:09.171433",
     "exception": false,
     "start_time": "2022-06-27T18:31:08.119452",
     "status": "completed"
    },
    "tags": []
   },
   "source": [
    "**The loss obtained from the given model is as shown below.**"
   ]
  },
  {
   "cell_type": "code",
   "execution_count": 45,
   "id": "b1334c12",
   "metadata": {
    "execution": {
     "iopub.execute_input": "2022-06-27T18:31:10.684083Z",
     "iopub.status.busy": "2022-06-27T18:31:10.683614Z",
     "iopub.status.idle": "2022-06-27T18:31:10.689658Z",
     "shell.execute_reply": "2022-06-27T18:31:10.688598Z"
    },
    "papermill": {
     "duration": 0.764546,
     "end_time": "2022-06-27T18:31:10.693916",
     "exception": false,
     "start_time": "2022-06-27T18:31:09.929370",
     "status": "completed"
    },
    "tags": []
   },
   "outputs": [
    {
     "name": "stdout",
     "output_type": "stream",
     "text": [
      "Loss of the model is: 0.016434503777418286%.\n"
     ]
    }
   ],
   "source": [
    "print(f\"Loss of the model is: {loss*100}%.\")"
   ]
  },
  {
   "cell_type": "markdown",
   "id": "c0241b17",
   "metadata": {
    "papermill": {
     "duration": 0.782335,
     "end_time": "2022-06-27T18:31:12.282455",
     "exception": false,
     "start_time": "2022-06-27T18:31:11.500120",
     "status": "completed"
    },
    "tags": []
   },
   "source": [
    "**The loss calculated above is 0.0119 %, which is quite low.**"
   ]
  },
  {
   "cell_type": "code",
   "execution_count": 46,
   "id": "db879197",
   "metadata": {
    "execution": {
     "iopub.execute_input": "2022-06-27T18:31:13.879035Z",
     "iopub.status.busy": "2022-06-27T18:31:13.878578Z",
     "iopub.status.idle": "2022-06-27T18:32:03.944926Z",
     "shell.execute_reply": "2022-06-27T18:32:03.943747Z"
    },
    "papermill": {
     "duration": 50.869031,
     "end_time": "2022-06-27T18:32:03.947725",
     "exception": false,
     "start_time": "2022-06-27T18:31:13.078694",
     "status": "completed"
    },
    "tags": []
   },
   "outputs": [],
   "source": [
    "train_predict = model_1.predict(X_train)\n",
    "test_predict = model_1.predict(X_test)\n"
   ]
  },
  {
   "cell_type": "markdown",
   "id": "460b9d48",
   "metadata": {
    "papermill": {
     "duration": 0.791194,
     "end_time": "2022-06-27T18:32:05.515956",
     "exception": false,
     "start_time": "2022-06-27T18:32:04.724762",
     "status": "completed"
    },
    "tags": []
   },
   "source": [
    "**I predicted the values for stock market using the model as shown above, and converted them back to the original values, by inverse transfrom of MinMaxScaler.**"
   ]
  },
  {
   "cell_type": "code",
   "execution_count": 47,
   "id": "7103037d",
   "metadata": {
    "execution": {
     "iopub.execute_input": "2022-06-27T18:32:07.004481Z",
     "iopub.status.busy": "2022-06-27T18:32:07.004137Z",
     "iopub.status.idle": "2022-06-27T18:32:07.010596Z",
     "shell.execute_reply": "2022-06-27T18:32:07.009531Z"
    },
    "papermill": {
     "duration": 0.754352,
     "end_time": "2022-06-27T18:32:07.012873",
     "exception": false,
     "start_time": "2022-06-27T18:32:06.258521",
     "status": "completed"
    },
    "tags": []
   },
   "outputs": [],
   "source": [
    "train_p = scaler.inverse_transform(train_predict) \n",
    "test_p = scaler.inverse_transform(test_predict)"
   ]
  },
  {
   "cell_type": "markdown",
   "id": "dac4ce51",
   "metadata": {
    "papermill": {
     "duration": 0.804582,
     "end_time": "2022-06-27T18:32:08.614298",
     "exception": false,
     "start_time": "2022-06-27T18:32:07.809716",
     "status": "completed"
    },
    "tags": []
   },
   "source": [
    "**I calculated the square root of mean squared error of predicted values and the real values, and found the mean squared error for train set is 2705.614 and test set is 3368.504.**"
   ]
  },
  {
   "cell_type": "code",
   "execution_count": 48,
   "id": "3696d4a1",
   "metadata": {
    "execution": {
     "iopub.execute_input": "2022-06-27T18:32:10.098060Z",
     "iopub.status.busy": "2022-06-27T18:32:10.097396Z",
     "iopub.status.idle": "2022-06-27T18:32:10.107134Z",
     "shell.execute_reply": "2022-06-27T18:32:10.105837Z"
    },
    "papermill": {
     "duration": 0.75747,
     "end_time": "2022-06-27T18:32:10.111598",
     "exception": false,
     "start_time": "2022-06-27T18:32:09.354128",
     "status": "completed"
    },
    "tags": []
   },
   "outputs": [
    {
     "data": {
      "text/plain": [
       "2978.511001376351"
      ]
     },
     "execution_count": 48,
     "metadata": {},
     "output_type": "execute_result"
    }
   ],
   "source": [
    "import math\n",
    "from sklearn.metrics import mean_squared_error\n",
    "math.sqrt(mean_squared_error(y_train, train_p))"
   ]
  },
  {
   "cell_type": "code",
   "execution_count": 49,
   "id": "517d199c",
   "metadata": {
    "execution": {
     "iopub.execute_input": "2022-06-27T18:32:12.145218Z",
     "iopub.status.busy": "2022-06-27T18:32:12.144688Z",
     "iopub.status.idle": "2022-06-27T18:32:12.155706Z",
     "shell.execute_reply": "2022-06-27T18:32:12.154825Z"
    },
    "papermill": {
     "duration": 1.242545,
     "end_time": "2022-06-27T18:32:12.159038",
     "exception": false,
     "start_time": "2022-06-27T18:32:10.916493",
     "status": "completed"
    },
    "tags": []
   },
   "outputs": [
    {
     "data": {
      "text/plain": [
       "3616.6243268566122"
      ]
     },
     "execution_count": 49,
     "metadata": {},
     "output_type": "execute_result"
    }
   ],
   "source": [
    "import math\n",
    "from sklearn.metrics import mean_squared_error\n",
    "math.sqrt(mean_squared_error(y_test, test_p))"
   ]
  },
  {
   "cell_type": "markdown",
   "id": "a7ba5bcf",
   "metadata": {
    "papermill": {
     "duration": 0.795831,
     "end_time": "2022-06-27T18:32:13.746692",
     "exception": false,
     "start_time": "2022-06-27T18:32:12.950861",
     "status": "completed"
    },
    "tags": []
   },
   "source": [
    "**Now, I have to test our model on test stock market. I have also calculated the adjusted close price of the given test dataset.**"
   ]
  },
  {
   "cell_type": "code",
   "execution_count": 50,
   "id": "51d4d4f1",
   "metadata": {
    "execution": {
     "iopub.execute_input": "2022-06-27T18:32:15.522272Z",
     "iopub.status.busy": "2022-06-27T18:32:15.521925Z",
     "iopub.status.idle": "2022-06-27T18:32:15.526693Z",
     "shell.execute_reply": "2022-06-27T18:32:15.525642Z"
    },
    "papermill": {
     "duration": 0.967775,
     "end_time": "2022-06-27T18:32:15.528788",
     "exception": false,
     "start_time": "2022-06-27T18:32:14.561013",
     "status": "completed"
    },
    "tags": []
   },
   "outputs": [],
   "source": [
    "dataset_test = \"/kaggle/input/jpx-tokyo-stock-exchange-prediction\"\n",
    "test_file = \"example_test_files/stock_prices.csv\"\n",
    "test_all_file = os.path.join(dataset_test, test_file)"
   ]
  },
  {
   "cell_type": "code",
   "execution_count": 51,
   "id": "85b29b97",
   "metadata": {
    "execution": {
     "iopub.execute_input": "2022-06-27T18:32:17.011003Z",
     "iopub.status.busy": "2022-06-27T18:32:17.009926Z",
     "iopub.status.idle": "2022-06-27T18:32:17.050923Z",
     "shell.execute_reply": "2022-06-27T18:32:17.050027Z"
    },
    "papermill": {
     "duration": 0.785352,
     "end_time": "2022-06-27T18:32:17.053276",
     "exception": false,
     "start_time": "2022-06-27T18:32:16.267924",
     "status": "completed"
    },
    "tags": []
   },
   "outputs": [
    {
     "data": {
      "text/html": [
       "<div>\n",
       "<style scoped>\n",
       "    .dataframe tbody tr th:only-of-type {\n",
       "        vertical-align: middle;\n",
       "    }\n",
       "\n",
       "    .dataframe tbody tr th {\n",
       "        vertical-align: top;\n",
       "    }\n",
       "\n",
       "    .dataframe thead th {\n",
       "        text-align: right;\n",
       "    }\n",
       "</style>\n",
       "<table border=\"1\" class=\"dataframe\">\n",
       "  <thead>\n",
       "    <tr style=\"text-align: right;\">\n",
       "      <th></th>\n",
       "      <th>RowId</th>\n",
       "      <th>Date</th>\n",
       "      <th>SecuritiesCode</th>\n",
       "      <th>Open</th>\n",
       "      <th>High</th>\n",
       "      <th>Low</th>\n",
       "      <th>Close</th>\n",
       "      <th>Volume</th>\n",
       "      <th>AdjustmentFactor</th>\n",
       "      <th>ExpectedDividend</th>\n",
       "      <th>SupervisionFlag</th>\n",
       "    </tr>\n",
       "  </thead>\n",
       "  <tbody>\n",
       "    <tr>\n",
       "      <th>0</th>\n",
       "      <td>20211206_1301</td>\n",
       "      <td>2021-12-06</td>\n",
       "      <td>1301</td>\n",
       "      <td>2982.0</td>\n",
       "      <td>2982.0</td>\n",
       "      <td>2965.0</td>\n",
       "      <td>2971.0</td>\n",
       "      <td>8900</td>\n",
       "      <td>1.0</td>\n",
       "      <td>NaN</td>\n",
       "      <td>False</td>\n",
       "    </tr>\n",
       "    <tr>\n",
       "      <th>1</th>\n",
       "      <td>20211206_1332</td>\n",
       "      <td>2021-12-06</td>\n",
       "      <td>1332</td>\n",
       "      <td>592.0</td>\n",
       "      <td>599.0</td>\n",
       "      <td>588.0</td>\n",
       "      <td>589.0</td>\n",
       "      <td>1360800</td>\n",
       "      <td>1.0</td>\n",
       "      <td>NaN</td>\n",
       "      <td>False</td>\n",
       "    </tr>\n",
       "    <tr>\n",
       "      <th>2</th>\n",
       "      <td>20211206_1333</td>\n",
       "      <td>2021-12-06</td>\n",
       "      <td>1333</td>\n",
       "      <td>2368.0</td>\n",
       "      <td>2388.0</td>\n",
       "      <td>2360.0</td>\n",
       "      <td>2377.0</td>\n",
       "      <td>125900</td>\n",
       "      <td>1.0</td>\n",
       "      <td>NaN</td>\n",
       "      <td>False</td>\n",
       "    </tr>\n",
       "    <tr>\n",
       "      <th>3</th>\n",
       "      <td>20211206_1375</td>\n",
       "      <td>2021-12-06</td>\n",
       "      <td>1375</td>\n",
       "      <td>1230.0</td>\n",
       "      <td>1239.0</td>\n",
       "      <td>1224.0</td>\n",
       "      <td>1224.0</td>\n",
       "      <td>81100</td>\n",
       "      <td>1.0</td>\n",
       "      <td>NaN</td>\n",
       "      <td>False</td>\n",
       "    </tr>\n",
       "    <tr>\n",
       "      <th>4</th>\n",
       "      <td>20211206_1376</td>\n",
       "      <td>2021-12-06</td>\n",
       "      <td>1376</td>\n",
       "      <td>1339.0</td>\n",
       "      <td>1372.0</td>\n",
       "      <td>1339.0</td>\n",
       "      <td>1351.0</td>\n",
       "      <td>6200</td>\n",
       "      <td>1.0</td>\n",
       "      <td>NaN</td>\n",
       "      <td>False</td>\n",
       "    </tr>\n",
       "  </tbody>\n",
       "</table>\n",
       "</div>"
      ],
      "text/plain": [
       "           RowId        Date  SecuritiesCode    Open    High     Low   Close  \\\n",
       "0  20211206_1301  2021-12-06            1301  2982.0  2982.0  2965.0  2971.0   \n",
       "1  20211206_1332  2021-12-06            1332   592.0   599.0   588.0   589.0   \n",
       "2  20211206_1333  2021-12-06            1333  2368.0  2388.0  2360.0  2377.0   \n",
       "3  20211206_1375  2021-12-06            1375  1230.0  1239.0  1224.0  1224.0   \n",
       "4  20211206_1376  2021-12-06            1376  1339.0  1372.0  1339.0  1351.0   \n",
       "\n",
       "    Volume  AdjustmentFactor  ExpectedDividend  SupervisionFlag  \n",
       "0     8900               1.0               NaN            False  \n",
       "1  1360800               1.0               NaN            False  \n",
       "2   125900               1.0               NaN            False  \n",
       "3    81100               1.0               NaN            False  \n",
       "4     6200               1.0               NaN            False  "
      ]
     },
     "execution_count": 51,
     "metadata": {},
     "output_type": "execute_result"
    }
   ],
   "source": [
    "df_t = pd.read_csv(test_all_file)\n",
    "df_t.head()"
   ]
  },
  {
   "cell_type": "code",
   "execution_count": 52,
   "id": "18fd47bc",
   "metadata": {
    "execution": {
     "iopub.execute_input": "2022-06-27T18:32:18.651518Z",
     "iopub.status.busy": "2022-06-27T18:32:18.651097Z",
     "iopub.status.idle": "2022-06-27T18:32:18.667318Z",
     "shell.execute_reply": "2022-06-27T18:32:18.666320Z"
    },
    "papermill": {
     "duration": 0.810277,
     "end_time": "2022-06-27T18:32:18.669911",
     "exception": false,
     "start_time": "2022-06-27T18:32:17.859634",
     "status": "completed"
    },
    "tags": []
   },
   "outputs": [
    {
     "data": {
      "text/html": [
       "<div>\n",
       "<style scoped>\n",
       "    .dataframe tbody tr th:only-of-type {\n",
       "        vertical-align: middle;\n",
       "    }\n",
       "\n",
       "    .dataframe tbody tr th {\n",
       "        vertical-align: top;\n",
       "    }\n",
       "\n",
       "    .dataframe thead th {\n",
       "        text-align: right;\n",
       "    }\n",
       "</style>\n",
       "<table border=\"1\" class=\"dataframe\">\n",
       "  <thead>\n",
       "    <tr style=\"text-align: right;\">\n",
       "      <th></th>\n",
       "      <th>RowId</th>\n",
       "      <th>Date</th>\n",
       "      <th>SecuritiesCode</th>\n",
       "      <th>Open</th>\n",
       "      <th>High</th>\n",
       "      <th>Low</th>\n",
       "      <th>Close</th>\n",
       "      <th>Volume</th>\n",
       "      <th>AdjustmentFactor</th>\n",
       "      <th>ExpectedDividend</th>\n",
       "      <th>SupervisionFlag</th>\n",
       "    </tr>\n",
       "  </thead>\n",
       "  <tbody>\n",
       "    <tr>\n",
       "      <th>3995</th>\n",
       "      <td>20211207_9990</td>\n",
       "      <td>2021-12-07</td>\n",
       "      <td>9990</td>\n",
       "      <td>526.0</td>\n",
       "      <td>535.0</td>\n",
       "      <td>524.0</td>\n",
       "      <td>535.0</td>\n",
       "      <td>57800</td>\n",
       "      <td>1.0</td>\n",
       "      <td>NaN</td>\n",
       "      <td>False</td>\n",
       "    </tr>\n",
       "    <tr>\n",
       "      <th>3996</th>\n",
       "      <td>20211207_9991</td>\n",
       "      <td>2021-12-07</td>\n",
       "      <td>9991</td>\n",
       "      <td>795.0</td>\n",
       "      <td>806.0</td>\n",
       "      <td>792.0</td>\n",
       "      <td>805.0</td>\n",
       "      <td>48500</td>\n",
       "      <td>1.0</td>\n",
       "      <td>NaN</td>\n",
       "      <td>False</td>\n",
       "    </tr>\n",
       "    <tr>\n",
       "      <th>3997</th>\n",
       "      <td>20211207_9993</td>\n",
       "      <td>2021-12-07</td>\n",
       "      <td>9993</td>\n",
       "      <td>1640.0</td>\n",
       "      <td>1640.0</td>\n",
       "      <td>1620.0</td>\n",
       "      <td>1620.0</td>\n",
       "      <td>6600</td>\n",
       "      <td>1.0</td>\n",
       "      <td>NaN</td>\n",
       "      <td>False</td>\n",
       "    </tr>\n",
       "    <tr>\n",
       "      <th>3998</th>\n",
       "      <td>20211207_9994</td>\n",
       "      <td>2021-12-07</td>\n",
       "      <td>9994</td>\n",
       "      <td>2437.0</td>\n",
       "      <td>2440.0</td>\n",
       "      <td>2423.0</td>\n",
       "      <td>2440.0</td>\n",
       "      <td>5200</td>\n",
       "      <td>1.0</td>\n",
       "      <td>NaN</td>\n",
       "      <td>False</td>\n",
       "    </tr>\n",
       "    <tr>\n",
       "      <th>3999</th>\n",
       "      <td>20211207_9997</td>\n",
       "      <td>2021-12-07</td>\n",
       "      <td>9997</td>\n",
       "      <td>711.0</td>\n",
       "      <td>719.0</td>\n",
       "      <td>706.0</td>\n",
       "      <td>719.0</td>\n",
       "      <td>204500</td>\n",
       "      <td>1.0</td>\n",
       "      <td>NaN</td>\n",
       "      <td>False</td>\n",
       "    </tr>\n",
       "  </tbody>\n",
       "</table>\n",
       "</div>"
      ],
      "text/plain": [
       "              RowId        Date  SecuritiesCode    Open    High     Low  \\\n",
       "3995  20211207_9990  2021-12-07            9990   526.0   535.0   524.0   \n",
       "3996  20211207_9991  2021-12-07            9991   795.0   806.0   792.0   \n",
       "3997  20211207_9993  2021-12-07            9993  1640.0  1640.0  1620.0   \n",
       "3998  20211207_9994  2021-12-07            9994  2437.0  2440.0  2423.0   \n",
       "3999  20211207_9997  2021-12-07            9997   711.0   719.0   706.0   \n",
       "\n",
       "       Close  Volume  AdjustmentFactor  ExpectedDividend  SupervisionFlag  \n",
       "3995   535.0   57800               1.0               NaN            False  \n",
       "3996   805.0   48500               1.0               NaN            False  \n",
       "3997  1620.0    6600               1.0               NaN            False  \n",
       "3998  2440.0    5200               1.0               NaN            False  \n",
       "3999   719.0  204500               1.0               NaN            False  "
      ]
     },
     "execution_count": 52,
     "metadata": {},
     "output_type": "execute_result"
    }
   ],
   "source": [
    "df_t.tail()"
   ]
  },
  {
   "cell_type": "code",
   "execution_count": 53,
   "id": "c870e8e3",
   "metadata": {
    "execution": {
     "iopub.execute_input": "2022-06-27T18:32:20.167315Z",
     "iopub.status.busy": "2022-06-27T18:32:20.166970Z",
     "iopub.status.idle": "2022-06-27T18:32:20.173379Z",
     "shell.execute_reply": "2022-06-27T18:32:20.172472Z"
    },
    "papermill": {
     "duration": 0.764903,
     "end_time": "2022-06-27T18:32:20.175514",
     "exception": false,
     "start_time": "2022-06-27T18:32:19.410611",
     "status": "completed"
    },
    "tags": []
   },
   "outputs": [
    {
     "data": {
      "text/plain": [
       "4000"
      ]
     },
     "execution_count": 53,
     "metadata": {},
     "output_type": "execute_result"
    }
   ],
   "source": [
    "len(df_t)"
   ]
  },
  {
   "cell_type": "code",
   "execution_count": 54,
   "id": "95cab6ad",
   "metadata": {
    "execution": {
     "iopub.execute_input": "2022-06-27T18:32:21.725608Z",
     "iopub.status.busy": "2022-06-27T18:32:21.725260Z",
     "iopub.status.idle": "2022-06-27T18:32:21.905589Z",
     "shell.execute_reply": "2022-06-27T18:32:21.904627Z"
    },
    "papermill": {
     "duration": 0.93681,
     "end_time": "2022-06-27T18:32:21.907765",
     "exception": false,
     "start_time": "2022-06-27T18:32:20.970955",
     "status": "completed"
    },
    "tags": []
   },
   "outputs": [
    {
     "data": {
      "text/plain": [
       "[<matplotlib.lines.Line2D at 0x7f511d3d1f10>]"
      ]
     },
     "execution_count": 54,
     "metadata": {},
     "output_type": "execute_result"
    },
    {
     "data": {
      "image/png": "[encoded data removed]",
      "text/plain": [
       "<Figure size 432x288 with 1 Axes>"
      ]
     },
     "metadata": {
      "needs_background": "light"
     },
     "output_type": "display_data"
    }
   ],
   "source": [
    "plt.plot(df_t['Close'])"
   ]
  },
  {
   "cell_type": "code",
   "execution_count": 55,
   "id": "790a81c3",
   "metadata": {
    "execution": {
     "iopub.execute_input": "2022-06-27T18:32:23.482059Z",
     "iopub.status.busy": "2022-06-27T18:32:23.481713Z",
     "iopub.status.idle": "2022-06-27T18:32:30.769759Z",
     "shell.execute_reply": "2022-06-27T18:32:30.768779Z"
    },
    "papermill": {
     "duration": 8.080699,
     "end_time": "2022-06-27T18:32:30.772155",
     "exception": false,
     "start_time": "2022-06-27T18:32:22.691456",
     "status": "completed"
    },
    "tags": []
   },
   "outputs": [],
   "source": [
    "df_t = adjusted_price(df_t)"
   ]
  },
  {
   "cell_type": "code",
   "execution_count": 56,
   "id": "2429c31f",
   "metadata": {
    "execution": {
     "iopub.execute_input": "2022-06-27T18:32:32.317598Z",
     "iopub.status.busy": "2022-06-27T18:32:32.317248Z",
     "iopub.status.idle": "2022-06-27T18:32:32.332313Z",
     "shell.execute_reply": "2022-06-27T18:32:32.330613Z"
    },
    "papermill": {
     "duration": 0.812348,
     "end_time": "2022-06-27T18:32:32.334303",
     "exception": false,
     "start_time": "2022-06-27T18:32:31.521955",
     "status": "completed"
    },
    "tags": []
   },
   "outputs": [
    {
     "name": "stdout",
     "output_type": "stream",
     "text": [
      "<class 'pandas.core.frame.DataFrame'>\n",
      "DatetimeIndex: 4000 entries, 2021-12-06 to 2021-12-07\n",
      "Data columns (total 12 columns):\n",
      " #   Column                      Non-Null Count  Dtype  \n",
      "---  ------                      --------------  -----  \n",
      " 0   RowId                       4000 non-null   object \n",
      " 1   SecuritiesCode              4000 non-null   int64  \n",
      " 2   Open                        3990 non-null   float64\n",
      " 3   High                        3990 non-null   float64\n",
      " 4   Low                         3990 non-null   float64\n",
      " 5   Close                       3990 non-null   float64\n",
      " 6   Volume                      4000 non-null   int64  \n",
      " 7   AdjustmentFactor            4000 non-null   float64\n",
      " 8   ExpectedDividend            0 non-null      float64\n",
      " 9   SupervisionFlag             4000 non-null   bool   \n",
      " 10  CumulativeAdjustmentFactor  4000 non-null   float64\n",
      " 11  AdjustedClose               3992 non-null   float64\n",
      "dtypes: bool(1), float64(8), int64(2), object(1)\n",
      "memory usage: 378.9+ KB\n"
     ]
    }
   ],
   "source": [
    "df_t.info()"
   ]
  },
  {
   "cell_type": "code",
   "execution_count": 57,
   "id": "22627e31",
   "metadata": {
    "execution": {
     "iopub.execute_input": "2022-06-27T18:32:33.819494Z",
     "iopub.status.busy": "2022-06-27T18:32:33.819156Z",
     "iopub.status.idle": "2022-06-27T18:32:34.070435Z",
     "shell.execute_reply": "2022-06-27T18:32:34.069514Z"
    },
    "papermill": {
     "duration": 0.994182,
     "end_time": "2022-06-27T18:32:34.072639",
     "exception": false,
     "start_time": "2022-06-27T18:32:33.078457",
     "status": "completed"
    },
    "tags": []
   },
   "outputs": [
    {
     "data": {
      "image/png": "[encoded data removed]",
      "text/plain": [
       "<Figure size 432x288 with 1 Axes>"
      ]
     },
     "metadata": {
      "needs_background": "light"
     },
     "output_type": "display_data"
    }
   ],
   "source": [
    "plt.plot(df_t[\"AdjustedClose\"])\n",
    "plt.xlabel(\"Year\")\n",
    "plt.ylabel(\"Adjusted_Close_Value\")\n",
    "plt.show()"
   ]
  },
  {
   "cell_type": "markdown",
   "id": "84d00e69",
   "metadata": {
    "papermill": {
     "duration": 0.796884,
     "end_time": "2022-06-27T18:32:35.648035",
     "exception": false,
     "start_time": "2022-06-27T18:32:34.851151",
     "status": "completed"
    },
    "tags": []
   },
   "source": [
    "**The graph is quite incomprehensible and I have taken only 1000 values, for prediction.**"
   ]
  },
  {
   "cell_type": "code",
   "execution_count": 58,
   "id": "523b79e8",
   "metadata": {
    "execution": {
     "iopub.execute_input": "2022-06-27T18:32:37.406480Z",
     "iopub.status.busy": "2022-06-27T18:32:37.406006Z",
     "iopub.status.idle": "2022-06-27T18:32:37.411319Z",
     "shell.execute_reply": "2022-06-27T18:32:37.410150Z"
    },
    "papermill": {
     "duration": 1.014509,
     "end_time": "2022-06-27T18:32:37.413522",
     "exception": false,
     "start_time": "2022-06-27T18:32:36.399013",
     "status": "completed"
    },
    "tags": []
   },
   "outputs": [],
   "source": [
    "df_t_1 = df_t[:1000]"
   ]
  },
  {
   "cell_type": "code",
   "execution_count": 59,
   "id": "41b09d89",
   "metadata": {
    "execution": {
     "iopub.execute_input": "2022-06-27T18:32:38.958337Z",
     "iopub.status.busy": "2022-06-27T18:32:38.957706Z",
     "iopub.status.idle": "2022-06-27T18:32:38.966248Z",
     "shell.execute_reply": "2022-06-27T18:32:38.965341Z"
    },
    "papermill": {
     "duration": 0.754935,
     "end_time": "2022-06-27T18:32:38.968262",
     "exception": false,
     "start_time": "2022-06-27T18:32:38.213327",
     "status": "completed"
    },
    "tags": []
   },
   "outputs": [],
   "source": [
    "df_t_1 = df_t_1.dropna()"
   ]
  },
  {
   "cell_type": "code",
   "execution_count": 60,
   "id": "71911d86",
   "metadata": {
    "execution": {
     "iopub.execute_input": "2022-06-27T18:32:40.558146Z",
     "iopub.status.busy": "2022-06-27T18:32:40.557736Z",
     "iopub.status.idle": "2022-06-27T18:32:40.564789Z",
     "shell.execute_reply": "2022-06-27T18:32:40.563873Z"
    },
    "papermill": {
     "duration": 0.807113,
     "end_time": "2022-06-27T18:32:40.566742",
     "exception": false,
     "start_time": "2022-06-27T18:32:39.759629",
     "status": "completed"
    },
    "tags": []
   },
   "outputs": [
    {
     "data": {
      "text/plain": [
       "1000"
      ]
     },
     "execution_count": 60,
     "metadata": {},
     "output_type": "execute_result"
    }
   ],
   "source": [
    "df3 = df_t[\"AdjustedClose\"][:1000]\n",
    "len(df3)\n"
   ]
  },
  {
   "cell_type": "code",
   "execution_count": 61,
   "id": "6f1f8f5b",
   "metadata": {
    "execution": {
     "iopub.execute_input": "2022-06-27T18:32:42.109241Z",
     "iopub.status.busy": "2022-06-27T18:32:42.108883Z",
     "iopub.status.idle": "2022-06-27T18:32:42.118320Z",
     "shell.execute_reply": "2022-06-27T18:32:42.117011Z"
    },
    "papermill": {
     "duration": 0.805464,
     "end_time": "2022-06-27T18:32:42.120387",
     "exception": false,
     "start_time": "2022-06-27T18:32:41.314923",
     "status": "completed"
    },
    "tags": []
   },
   "outputs": [
    {
     "data": {
      "text/plain": [
       "Date\n",
       "2021-12-06    2971.0\n",
       "2021-12-07    3065.0\n",
       "2021-12-06     589.0\n",
       "2021-12-07     556.0\n",
       "2021-12-06    2377.0\n",
       "               ...  \n",
       "2021-12-07    4575.0\n",
       "2021-12-06    6550.0\n",
       "2021-12-07    6790.0\n",
       "2021-12-06    1916.0\n",
       "2021-12-07    2006.0\n",
       "Name: AdjustedClose, Length: 1000, dtype: float64"
      ]
     },
     "execution_count": 61,
     "metadata": {},
     "output_type": "execute_result"
    }
   ],
   "source": [
    "df3"
   ]
  },
  {
   "cell_type": "code",
   "execution_count": 62,
   "id": "e20315dd",
   "metadata": {
    "execution": {
     "iopub.execute_input": "2022-06-27T18:32:43.611444Z",
     "iopub.status.busy": "2022-06-27T18:32:43.611105Z",
     "iopub.status.idle": "2022-06-27T18:32:43.617508Z",
     "shell.execute_reply": "2022-06-27T18:32:43.616603Z"
    },
    "papermill": {
     "duration": 0.757555,
     "end_time": "2022-06-27T18:32:43.619639",
     "exception": false,
     "start_time": "2022-06-27T18:32:42.862084",
     "status": "completed"
    },
    "tags": []
   },
   "outputs": [
    {
     "data": {
      "text/plain": [
       "1000"
      ]
     },
     "execution_count": 62,
     "metadata": {},
     "output_type": "execute_result"
    }
   ],
   "source": [
    "len(df3)"
   ]
  },
  {
   "cell_type": "code",
   "execution_count": 63,
   "id": "864c02d8",
   "metadata": {
    "execution": {
     "iopub.execute_input": "2022-06-27T18:32:45.749862Z",
     "iopub.status.busy": "2022-06-27T18:32:45.749477Z",
     "iopub.status.idle": "2022-06-27T18:32:45.756366Z",
     "shell.execute_reply": "2022-06-27T18:32:45.755408Z"
    },
    "papermill": {
     "duration": 0.985633,
     "end_time": "2022-06-27T18:32:45.758420",
     "exception": false,
     "start_time": "2022-06-27T18:32:44.772787",
     "status": "completed"
    },
    "tags": []
   },
   "outputs": [
    {
     "data": {
      "text/plain": [
       "2"
      ]
     },
     "execution_count": 63,
     "metadata": {},
     "output_type": "execute_result"
    }
   ],
   "source": [
    "df3.isnull().sum()"
   ]
  },
  {
   "cell_type": "code",
   "execution_count": 64,
   "id": "b9c4754b",
   "metadata": {
    "execution": {
     "iopub.execute_input": "2022-06-27T18:32:47.248296Z",
     "iopub.status.busy": "2022-06-27T18:32:47.247953Z",
     "iopub.status.idle": "2022-06-27T18:32:47.555738Z",
     "shell.execute_reply": "2022-06-27T18:32:47.554645Z"
    },
    "papermill": {
     "duration": 1.053295,
     "end_time": "2022-06-27T18:32:47.557947",
     "exception": false,
     "start_time": "2022-06-27T18:32:46.504652",
     "status": "completed"
    },
    "tags": []
   },
   "outputs": [
    {
     "data": {
      "text/plain": [
       "<AxesSubplot:xlabel='Date'>"
      ]
     },
     "execution_count": 64,
     "metadata": {},
     "output_type": "execute_result"
    },
    {
     "data": {
      "image/png": "[encoded data removed]",
      "text/plain": [
       "<Figure size 864x288 with 1 Axes>"
      ]
     },
     "metadata": {
      "needs_background": "light"
     },
     "output_type": "display_data"
    }
   ],
   "source": [
    "df3.plot(figsize=(12, 4), legend=True, linestyle=\"--\", marker=\"o\")"
   ]
  },
  {
   "cell_type": "code",
   "execution_count": 65,
   "id": "f4f9e513",
   "metadata": {
    "execution": {
     "iopub.execute_input": "2022-06-27T18:32:49.268594Z",
     "iopub.status.busy": "2022-06-27T18:32:49.268251Z",
     "iopub.status.idle": "2022-06-27T18:32:49.657555Z",
     "shell.execute_reply": "2022-06-27T18:32:49.656706Z"
    },
    "papermill": {
     "duration": 1.139445,
     "end_time": "2022-06-27T18:32:49.659481",
     "exception": false,
     "start_time": "2022-06-27T18:32:48.520036",
     "status": "completed"
    },
    "tags": []
   },
   "outputs": [
    {
     "data": {
      "text/plain": [
       "<seaborn.axisgrid.FacetGrid at 0x7f5180019a10>"
      ]
     },
     "execution_count": 65,
     "metadata": {},
     "output_type": "execute_result"
    },
    {
     "data": {
      "image/png": "[encoded data removed]",
      "text/plain": [
       "<Figure size 360x360 with 1 Axes>"
      ]
     },
     "metadata": {
      "needs_background": "light"
     },
     "output_type": "display_data"
    }
   ],
   "source": [
    "sns.displot(df3, bins=100, color=\"magenta\")"
   ]
  },
  {
   "cell_type": "code",
   "execution_count": 66,
   "id": "725d89f3",
   "metadata": {
    "execution": {
     "iopub.execute_input": "2022-06-27T18:32:51.245248Z",
     "iopub.status.busy": "2022-06-27T18:32:51.244841Z",
     "iopub.status.idle": "2022-06-27T18:32:51.253487Z",
     "shell.execute_reply": "2022-06-27T18:32:51.252511Z"
    },
    "papermill": {
     "duration": 0.803699,
     "end_time": "2022-06-27T18:32:51.255595",
     "exception": false,
     "start_time": "2022-06-27T18:32:50.451896",
     "status": "completed"
    },
    "tags": []
   },
   "outputs": [
    {
     "data": {
      "text/plain": [
       "Date\n",
       "2021-12-06    2971.0\n",
       "2021-12-07    3065.0\n",
       "2021-12-06     589.0\n",
       "2021-12-07     556.0\n",
       "2021-12-06    2377.0\n",
       "               ...  \n",
       "2021-12-07    4575.0\n",
       "2021-12-06    6550.0\n",
       "2021-12-07    6790.0\n",
       "2021-12-06    1916.0\n",
       "2021-12-07    2006.0\n",
       "Name: AdjustedClose, Length: 1000, dtype: float64"
      ]
     },
     "execution_count": 66,
     "metadata": {},
     "output_type": "execute_result"
    }
   ],
   "source": [
    "df3"
   ]
  },
  {
   "cell_type": "code",
   "execution_count": 67,
   "id": "a51ec3b7",
   "metadata": {
    "execution": {
     "iopub.execute_input": "2022-06-27T18:32:52.800251Z",
     "iopub.status.busy": "2022-06-27T18:32:52.799916Z",
     "iopub.status.idle": "2022-06-27T18:32:52.805114Z",
     "shell.execute_reply": "2022-06-27T18:32:52.804165Z"
    },
    "papermill": {
     "duration": 0.804068,
     "end_time": "2022-06-27T18:32:52.807054",
     "exception": false,
     "start_time": "2022-06-27T18:32:52.002986",
     "status": "completed"
    },
    "tags": []
   },
   "outputs": [],
   "source": [
    "df3 = df3.dropna()"
   ]
  },
  {
   "cell_type": "code",
   "execution_count": 68,
   "id": "dd0ff4b8",
   "metadata": {
    "execution": {
     "iopub.execute_input": "2022-06-27T18:32:54.298743Z",
     "iopub.status.busy": "2022-06-27T18:32:54.298062Z",
     "iopub.status.idle": "2022-06-27T18:32:54.303964Z",
     "shell.execute_reply": "2022-06-27T18:32:54.303063Z"
    },
    "papermill": {
     "duration": 0.757288,
     "end_time": "2022-06-27T18:32:54.305830",
     "exception": false,
     "start_time": "2022-06-27T18:32:53.548542",
     "status": "completed"
    },
    "tags": []
   },
   "outputs": [
    {
     "data": {
      "text/plain": [
       "998"
      ]
     },
     "execution_count": 68,
     "metadata": {},
     "output_type": "execute_result"
    }
   ],
   "source": [
    "len(df3)"
   ]
  },
  {
   "cell_type": "code",
   "execution_count": 69,
   "id": "eed6c17a",
   "metadata": {
    "execution": {
     "iopub.execute_input": "2022-06-27T18:32:55.882429Z",
     "iopub.status.busy": "2022-06-27T18:32:55.881737Z",
     "iopub.status.idle": "2022-06-27T18:32:55.887687Z",
     "shell.execute_reply": "2022-06-27T18:32:55.886736Z"
    },
    "papermill": {
     "duration": 0.799383,
     "end_time": "2022-06-27T18:32:55.889564",
     "exception": false,
     "start_time": "2022-06-27T18:32:55.090181",
     "status": "completed"
    },
    "tags": []
   },
   "outputs": [],
   "source": [
    "from sklearn.preprocessing import MinMaxScaler\n",
    "scaler = MinMaxScaler(feature_range=(0,1))\n",
    "df3 = scaler.fit_transform(np.array(df3).reshape(-1, 1))"
   ]
  },
  {
   "cell_type": "code",
   "execution_count": 70,
   "id": "c20378b5",
   "metadata": {
    "execution": {
     "iopub.execute_input": "2022-06-27T18:32:57.382919Z",
     "iopub.status.busy": "2022-06-27T18:32:57.382394Z",
     "iopub.status.idle": "2022-06-27T18:32:57.398347Z",
     "shell.execute_reply": "2022-06-27T18:32:57.397342Z"
    },
    "papermill": {
     "duration": 0.76796,
     "end_time": "2022-06-27T18:32:57.400297",
     "exception": false,
     "start_time": "2022-06-27T18:32:56.632337",
     "status": "completed"
    },
    "tags": []
   },
   "outputs": [
    {
     "data": {
      "text/plain": [
       "array([[0.11805753, 0.12187107, 0.02142075, ..., 0.12998499, 0.09241754,\n",
       "        0.09570368],\n",
       "       [0.12187107, 0.02142075, 0.02008195, ..., 0.09241754, 0.09570368,\n",
       "        0.21213842],\n",
       "       [0.02142075, 0.02008195, 0.09395919, ..., 0.09570368, 0.21213842,\n",
       "        0.2149783 ],\n",
       "       ...,\n",
       "       [0.02466632, 0.025356  , 0.01695809, ..., 0.02965638, 0.17846566,\n",
       "        0.18313116],\n",
       "       [0.025356  , 0.01695809, 0.01760721, ..., 0.17846566, 0.18313116,\n",
       "        0.26325612],\n",
       "       [0.01695809, 0.01760721, 0.0387034 , ..., 0.18313116, 0.26325612,\n",
       "        0.27299282]])"
      ]
     },
     "execution_count": 70,
     "metadata": {},
     "output_type": "execute_result"
    }
   ],
   "source": [
    "time_step = 100\n",
    "X_test_1, y_test_1 = create_dataset(df3, time_step)\n",
    "X_test_1"
   ]
  },
  {
   "cell_type": "code",
   "execution_count": 71,
   "id": "b63ea7ee",
   "metadata": {
    "execution": {
     "iopub.execute_input": "2022-06-27T18:32:59.215657Z",
     "iopub.status.busy": "2022-06-27T18:32:59.215307Z",
     "iopub.status.idle": "2022-06-27T18:32:59.221449Z",
     "shell.execute_reply": "2022-06-27T18:32:59.220556Z"
    },
    "papermill": {
     "duration": 1.012391,
     "end_time": "2022-06-27T18:32:59.224454",
     "exception": false,
     "start_time": "2022-06-27T18:32:58.212063",
     "status": "completed"
    },
    "tags": []
   },
   "outputs": [
    {
     "data": {
      "text/plain": [
       "(897, 100)"
      ]
     },
     "execution_count": 71,
     "metadata": {},
     "output_type": "execute_result"
    }
   ],
   "source": [
    "X_test_1.shape"
   ]
  },
  {
   "cell_type": "code",
   "execution_count": 72,
   "id": "746142a9",
   "metadata": {
    "execution": {
     "iopub.execute_input": "2022-06-27T18:33:00.831185Z",
     "iopub.status.busy": "2022-06-27T18:33:00.830769Z",
     "iopub.status.idle": "2022-06-27T18:33:00.835986Z",
     "shell.execute_reply": "2022-06-27T18:33:00.834937Z"
    },
    "papermill": {
     "duration": 0.809512,
     "end_time": "2022-06-27T18:33:00.838536",
     "exception": false,
     "start_time": "2022-06-27T18:33:00.029024",
     "status": "completed"
    },
    "tags": []
   },
   "outputs": [],
   "source": [
    "X_test_1 = X_test_1.reshape(X_test_1.shape[0], X_test_1.shape[1], 1)"
   ]
  },
  {
   "cell_type": "code",
   "execution_count": 73,
   "id": "9ed3eaca",
   "metadata": {
    "execution": {
     "iopub.execute_input": "2022-06-27T18:33:02.417882Z",
     "iopub.status.busy": "2022-06-27T18:33:02.417499Z",
     "iopub.status.idle": "2022-06-27T18:33:02.424064Z",
     "shell.execute_reply": "2022-06-27T18:33:02.423118Z"
    },
    "papermill": {
     "duration": 0.831509,
     "end_time": "2022-06-27T18:33:02.426367",
     "exception": false,
     "start_time": "2022-06-27T18:33:01.594858",
     "status": "completed"
    },
    "tags": []
   },
   "outputs": [
    {
     "data": {
      "text/plain": [
       "(897, 100, 1)"
      ]
     },
     "execution_count": 73,
     "metadata": {},
     "output_type": "execute_result"
    }
   ],
   "source": [
    "X_test_1.shape"
   ]
  },
  {
   "cell_type": "code",
   "execution_count": 74,
   "id": "693c6169",
   "metadata": {
    "execution": {
     "iopub.execute_input": "2022-06-27T18:33:03.927445Z",
     "iopub.status.busy": "2022-06-27T18:33:03.927111Z",
     "iopub.status.idle": "2022-06-27T18:33:04.145549Z",
     "shell.execute_reply": "2022-06-27T18:33:04.144595Z"
    },
    "papermill": {
     "duration": 0.970925,
     "end_time": "2022-06-27T18:33:04.147842",
     "exception": false,
     "start_time": "2022-06-27T18:33:03.176917",
     "status": "completed"
    },
    "tags": []
   },
   "outputs": [],
   "source": [
    "test_predict_1 = model_1.predict(X_test_1)"
   ]
  },
  {
   "cell_type": "code",
   "execution_count": 75,
   "id": "573618af",
   "metadata": {
    "execution": {
     "iopub.execute_input": "2022-06-27T18:33:05.753909Z",
     "iopub.status.busy": "2022-06-27T18:33:05.753369Z",
     "iopub.status.idle": "2022-06-27T18:33:05.758459Z",
     "shell.execute_reply": "2022-06-27T18:33:05.757553Z"
    },
    "papermill": {
     "duration": 0.806244,
     "end_time": "2022-06-27T18:33:05.760393",
     "exception": false,
     "start_time": "2022-06-27T18:33:04.954149",
     "status": "completed"
    },
    "tags": []
   },
   "outputs": [],
   "source": [
    "test_p_1 = scaler.inverse_transform(test_predict_1)"
   ]
  },
  {
   "cell_type": "code",
   "execution_count": 76,
   "id": "87530fd5",
   "metadata": {
    "execution": {
     "iopub.execute_input": "2022-06-27T18:33:07.270162Z",
     "iopub.status.busy": "2022-06-27T18:33:07.269824Z",
     "iopub.status.idle": "2022-06-27T18:33:07.274604Z",
     "shell.execute_reply": "2022-06-27T18:33:07.273590Z"
    },
    "papermill": {
     "duration": 0.763223,
     "end_time": "2022-06-27T18:33:07.276992",
     "exception": false,
     "start_time": "2022-06-27T18:33:06.513769",
     "status": "completed"
    },
    "tags": []
   },
   "outputs": [],
   "source": [
    "y_test_1 = y_test_1.reshape(897,1)"
   ]
  },
  {
   "cell_type": "code",
   "execution_count": 77,
   "id": "5bbc0355",
   "metadata": {
    "execution": {
     "iopub.execute_input": "2022-06-27T18:33:08.859643Z",
     "iopub.status.busy": "2022-06-27T18:33:08.858729Z",
     "iopub.status.idle": "2022-06-27T18:33:08.864976Z",
     "shell.execute_reply": "2022-06-27T18:33:08.864044Z"
    },
    "papermill": {
     "duration": 0.77238,
     "end_time": "2022-06-27T18:33:08.866849",
     "exception": false,
     "start_time": "2022-06-27T18:33:08.094469",
     "status": "completed"
    },
    "tags": []
   },
   "outputs": [
    {
     "data": {
      "text/plain": [
       "(897, 1)"
      ]
     },
     "execution_count": 77,
     "metadata": {},
     "output_type": "execute_result"
    }
   ],
   "source": [
    "test_p_1.shape"
   ]
  },
  {
   "cell_type": "markdown",
   "id": "ca8c74b1",
   "metadata": {
    "papermill": {
     "duration": 0.827965,
     "end_time": "2022-06-27T18:33:10.723806",
     "exception": false,
     "start_time": "2022-06-27T18:33:09.895841",
     "status": "completed"
    },
    "tags": []
   },
   "source": [
    "**Square root mean squared error is found to be 3094.5207 on the test values for stock price prediction.**"
   ]
  },
  {
   "cell_type": "code",
   "execution_count": 78,
   "id": "3fadbaf0",
   "metadata": {
    "execution": {
     "iopub.execute_input": "2022-06-27T18:33:12.279764Z",
     "iopub.status.busy": "2022-06-27T18:33:12.279047Z",
     "iopub.status.idle": "2022-06-27T18:33:12.286592Z",
     "shell.execute_reply": "2022-06-27T18:33:12.285597Z"
    },
    "papermill": {
     "duration": 0.811853,
     "end_time": "2022-06-27T18:33:12.288474",
     "exception": false,
     "start_time": "2022-06-27T18:33:11.476621",
     "status": "completed"
    },
    "tags": []
   },
   "outputs": [
    {
     "data": {
      "text/plain": [
       "3033.7422072803292"
      ]
     },
     "execution_count": 78,
     "metadata": {},
     "output_type": "execute_result"
    }
   ],
   "source": [
    "import math\n",
    "from sklearn.metrics import mean_squared_error\n",
    "math.sqrt(mean_squared_error(y_test_1, test_p_1))"
   ]
  },
  {
   "cell_type": "code",
   "execution_count": 79,
   "id": "159168a4",
   "metadata": {
    "execution": {
     "iopub.execute_input": "2022-06-27T18:33:13.772965Z",
     "iopub.status.busy": "2022-06-27T18:33:13.772602Z",
     "iopub.status.idle": "2022-06-27T18:33:13.944656Z",
     "shell.execute_reply": "2022-06-27T18:33:13.943777Z"
    },
    "papermill": {
     "duration": 0.914198,
     "end_time": "2022-06-27T18:33:13.946852",
     "exception": false,
     "start_time": "2022-06-27T18:33:13.032654",
     "status": "completed"
    },
    "tags": []
   },
   "outputs": [
    {
     "data": {
      "image/png": "[encoded data removed]",
      "text/plain": [
       "<Figure size 432x288 with 1 Axes>"
      ]
     },
     "metadata": {
      "needs_background": "light"
     },
     "output_type": "display_data"
    }
   ],
   "source": [
    "import numpy as np\n",
    "back = 100\n",
    "\n",
    "testPredictPlot = np.empty_like(df3)\n",
    "testPredictPlot[:, :] = np.nan\n",
    "testPredictPlot[back:len(test_p_1)+back, :] = test_p_1\n",
    "\n",
    "\n",
    "plt.plot(scaler.inverse_transform(df3))\n",
    "plt.plot(testPredictPlot)\n",
    "plt.show()"
   ]
  },
  {
   "cell_type": "code",
   "execution_count": 80,
   "id": "22b75b25",
   "metadata": {
    "execution": {
     "iopub.execute_input": "2022-06-27T18:33:15.535029Z",
     "iopub.status.busy": "2022-06-27T18:33:15.534659Z",
     "iopub.status.idle": "2022-06-27T18:33:15.539288Z",
     "shell.execute_reply": "2022-06-27T18:33:15.538315Z"
    },
    "papermill": {
     "duration": 0.801819,
     "end_time": "2022-06-27T18:33:15.541237",
     "exception": false,
     "start_time": "2022-06-27T18:33:14.739418",
     "status": "completed"
    },
    "tags": []
   },
   "outputs": [],
   "source": [
    "test_p_1 = np.squeeze(test_p_1)"
   ]
  },
  {
   "cell_type": "code",
   "execution_count": 81,
   "id": "f3d78f98",
   "metadata": {
    "execution": {
     "iopub.execute_input": "2022-06-27T18:33:17.235352Z",
     "iopub.status.busy": "2022-06-27T18:33:17.235019Z",
     "iopub.status.idle": "2022-06-27T18:33:17.240062Z",
     "shell.execute_reply": "2022-06-27T18:33:17.239172Z"
    },
    "papermill": {
     "duration": 0.96044,
     "end_time": "2022-06-27T18:33:17.245693",
     "exception": false,
     "start_time": "2022-06-27T18:33:16.285253",
     "status": "completed"
    },
    "tags": []
   },
   "outputs": [],
   "source": [
    "test_p_1 = pd.DataFrame(test_p_1, columns = ['Stock_Price'])"
   ]
  },
  {
   "cell_type": "code",
   "execution_count": 82,
   "id": "9902aa53",
   "metadata": {
    "execution": {
     "iopub.execute_input": "2022-06-27T18:33:19.219725Z",
     "iopub.status.busy": "2022-06-27T18:33:19.219356Z",
     "iopub.status.idle": "2022-06-27T18:33:19.225498Z",
     "shell.execute_reply": "2022-06-27T18:33:19.224604Z"
    },
    "papermill": {
     "duration": 0.767717,
     "end_time": "2022-06-27T18:33:19.227897",
     "exception": false,
     "start_time": "2022-06-27T18:33:18.460180",
     "status": "completed"
    },
    "tags": []
   },
   "outputs": [
    {
     "data": {
      "text/plain": [
       "(897, 1)"
      ]
     },
     "execution_count": 82,
     "metadata": {},
     "output_type": "execute_result"
    }
   ],
   "source": [
    "test_p_1.shape"
   ]
  },
  {
   "cell_type": "code",
   "execution_count": 83,
   "id": "49ce6371",
   "metadata": {
    "execution": {
     "iopub.execute_input": "2022-06-27T18:33:21.060633Z",
     "iopub.status.busy": "2022-06-27T18:33:21.060280Z",
     "iopub.status.idle": "2022-06-27T18:33:21.065116Z",
     "shell.execute_reply": "2022-06-27T18:33:21.064181Z"
    },
    "papermill": {
     "duration": 1.029275,
     "end_time": "2022-06-27T18:33:21.067185",
     "exception": false,
     "start_time": "2022-06-27T18:33:20.037910",
     "status": "completed"
    },
    "tags": []
   },
   "outputs": [],
   "source": [
    "test_p_1 = np.squeeze(test_p_1)"
   ]
  },
  {
   "cell_type": "code",
   "execution_count": 84,
   "id": "73c8f832",
   "metadata": {
    "execution": {
     "iopub.execute_input": "2022-06-27T18:33:22.621597Z",
     "iopub.status.busy": "2022-06-27T18:33:22.621249Z",
     "iopub.status.idle": "2022-06-27T18:33:22.630450Z",
     "shell.execute_reply": "2022-06-27T18:33:22.629462Z"
    },
    "papermill": {
     "duration": 0.815981,
     "end_time": "2022-06-27T18:33:22.632385",
     "exception": false,
     "start_time": "2022-06-27T18:33:21.816404",
     "status": "completed"
    },
    "tags": []
   },
   "outputs": [
    {
     "data": {
      "text/plain": [
       "0      2510.767822\n",
       "1      4506.718750\n",
       "2      4794.649414\n",
       "3      2002.370728\n",
       "4      1214.816406\n",
       "          ...     \n",
       "892    1656.098755\n",
       "893    3213.313965\n",
       "894    4113.562500\n",
       "895    4881.371582\n",
       "896    5812.257812\n",
       "Name: Stock_Price, Length: 897, dtype: float32"
      ]
     },
     "execution_count": 84,
     "metadata": {},
     "output_type": "execute_result"
    }
   ],
   "source": [
    "test_p_1"
   ]
  },
  {
   "cell_type": "code",
   "execution_count": 85,
   "id": "0a78fac7",
   "metadata": {
    "execution": {
     "iopub.execute_input": "2022-06-27T18:33:24.124975Z",
     "iopub.status.busy": "2022-06-27T18:33:24.124536Z",
     "iopub.status.idle": "2022-06-27T18:33:24.137103Z",
     "shell.execute_reply": "2022-06-27T18:33:24.136236Z"
    },
    "papermill": {
     "duration": 0.762345,
     "end_time": "2022-06-27T18:33:24.139145",
     "exception": false,
     "start_time": "2022-06-27T18:33:23.376800",
     "status": "completed"
    },
    "tags": []
   },
   "outputs": [],
   "source": [
    "my_submission = pd.DataFrame({'Id': df_t_1.SecuritiesCode, 'Stock_Price': test_p_1})\n",
    "my_submission.to_csv('my_submission.csv', index=False)"
   ]
  },
  {
   "cell_type": "markdown",
   "id": "0be11e57",
   "metadata": {
    "papermill": {
     "duration": 0.79574,
     "end_time": "2022-06-27T18:33:25.722193",
     "exception": false,
     "start_time": "2022-06-27T18:33:24.926453",
     "status": "completed"
    },
    "tags": []
   },
   "source": [
    "# **\"model_1\" is the trained model with very low losses and high accuracy, you could use that to predict your stock prices.**"
   ]
  }
 ],
 "metadata": {
  "kernelspec": {
   "display_name": "Python 3",
   "language": "python",
   "name": "python3"
  },
  "language_info": {
   "codemirror_mode": {
    "name": "ipython",
    "version": 3
   },
   "file_extension": ".py",
   "mimetype": "text/x-python",
   "name": "python",
   "nbconvert_exporter": "python",
   "pygments_lexer": "ipython3",
   "version": "3.7.12"
  },
  "papermill": {
   "default_parameters": {},
   "duration": 1020.011845,
   "end_time": "2022-06-27T18:33:29.933120",
   "environment_variables": {},
   "exception": null,
   "input_path": "__notebook__.ipynb",
   "output_path": "__notebook__.ipynb",
   "parameters": {},
   "start_time": "2022-06-27T18:16:29.921275",
   "version": "2.3.4"
  }
 },
 "nbformat": 4,
 "nbformat_minor": 5
}
